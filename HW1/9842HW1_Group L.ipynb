{
 "cells": [
  {
   "cell_type": "code",
   "execution_count": 67,
   "metadata": {},
   "outputs": [],
   "source": [
    "import numpy as np\n",
    "from scipy.optimize import least_squares,rosen, differential_evolution\n",
    "import pandas as pd\n",
    "from math import *\n",
    "import matplotlib.pyplot as plt"
   ]
  },
  {
   "cell_type": "markdown",
   "metadata": {},
   "source": [
    "Problem 1"
   ]
  },
  {
   "cell_type": "code",
   "execution_count": 2,
   "metadata": {},
   "outputs": [],
   "source": [
    "data=pd.read_csv('Assignment1_data.csv',header=None,names=['T','value'])"
   ]
  },
  {
   "cell_type": "code",
   "execution_count": 3,
   "metadata": {},
   "outputs": [],
   "source": [
    "def g(x):\n",
    "    T=data['T']\n",
    "    v=data['value']\n",
    "    res=np.zeros(len(T))\n",
    "    res=x[0]+x[1]*np.exp(x[2]*T)+x[3]*np.exp(x[4]*T)-v\n",
    "    return res"
   ]
  },
  {
   "cell_type": "code",
   "execution_count": 4,
   "metadata": {},
   "outputs": [
    {
     "name": "stderr",
     "output_type": "stream",
     "text": [
      "F:\\ananconda\\lib\\site-packages\\ipykernel_launcher.py:5: RuntimeWarning: overflow encountered in exp\n",
      "  \"\"\"\n"
     ]
    },
    {
     "data": {
      "text/plain": [
       "array([ 7.13362248e+01, -1.95655405e+00, -3.32416549e-01, -6.87208757e+01,\n",
       "        2.24525249e-03])"
      ]
     },
     "execution_count": 4,
     "metadata": {},
     "output_type": "execute_result"
    }
   ],
   "source": [
    "x_ini=np.zeros(5)\n",
    "res_1 = least_squares(g, x_ini,method='lm')\n",
    "res_1.x"
   ]
  },
  {
   "cell_type": "markdown",
   "metadata": {},
   "source": [
    "Problem 2"
   ]
  },
  {
   "cell_type": "code",
   "execution_count": 5,
   "metadata": {},
   "outputs": [],
   "source": [
    "def rosen_der(x):\n",
    "    return np.array([2*(x[0]-1)-400*(x[1]-x[0]**2)*x[0],200*(x[1]-x[0]**2)])\n",
    "\n",
    "def rosenberg(x):\n",
    "    return (x[0]-1)**2+100*(x[1]-x[0]**2)**2\n",
    "def rosenberg_opt(x,alpha,tol1=1e-12,tol2=1e-6):\n",
    "    it=0\n",
    "    while True:\n",
    "        it+=1\n",
    "        crosen=rosenberg(x)\n",
    "        der=rosen_der(x)\n",
    "        ba=alpha[0]\n",
    "        cmin=rosenberg(x-der*ba)\n",
    "        for i in range(1,len(alpha)):\n",
    "            val=rosenberg(x-der*alpha[i])\n",
    "            if val<cmin:\n",
    "                ba=alpha[i]\n",
    "                cmin=val\n",
    "        x=x-der*ba\n",
    "        if abs(der).all()<tol1 and abs(cmin-crosen)<tol2:\n",
    "            return x,cmin,'tol exit'\n",
    "        elif it>10000:\n",
    "            return x,cmin,'iter exit'"
   ]
  },
  {
   "cell_type": "code",
   "execution_count": 20,
   "metadata": {},
   "outputs": [],
   "source": [
    "alpha=[0.001,0.002,0.003,0.004,0.005,0.1,0.5]"
   ]
  },
  {
   "cell_type": "code",
   "execution_count": 21,
   "metadata": {},
   "outputs": [
    {
     "data": {
      "text/plain": [
       "(array([1., 1.]), 3.1049022887626685e-26, 'tol exit')"
      ]
     },
     "execution_count": 21,
     "metadata": {},
     "output_type": "execute_result"
    }
   ],
   "source": [
    "rosenberg_opt(np.array([0.,0.]),alpha)"
   ]
  },
  {
   "cell_type": "code",
   "execution_count": 26,
   "metadata": {},
   "outputs": [
    {
     "name": "stderr",
     "output_type": "stream",
     "text": [
      "F:\\ananconda\\lib\\site-packages\\ipykernel_launcher.py:5: RuntimeWarning: overflow encountered in double_scalars\n",
      "  \"\"\"\n",
      "F:\\ananconda\\lib\\site-packages\\ipykernel_launcher.py:2: RuntimeWarning: overflow encountered in double_scalars\n",
      "  \n",
      "F:\\ananconda\\lib\\site-packages\\ipykernel_launcher.py:5: RuntimeWarning: invalid value encountered in double_scalars\n",
      "  \"\"\"\n",
      "F:\\ananconda\\lib\\site-packages\\ipykernel_launcher.py:2: RuntimeWarning: invalid value encountered in double_scalars\n",
      "  \n",
      "F:\\ananconda\\lib\\site-packages\\ipykernel_launcher.py:13: RuntimeWarning: invalid value encountered in subtract\n",
      "  del sys.path[0]\n",
      "F:\\ananconda\\lib\\site-packages\\ipykernel_launcher.py:15: RuntimeWarning: invalid value encountered in subtract\n",
      "  from ipykernel import kernelapp as app\n",
      "F:\\ananconda\\lib\\site-packages\\ipykernel_launcher.py:19: RuntimeWarning: invalid value encountered in subtract\n"
     ]
    }
   ],
   "source": [
    "xcov=[]\n",
    "ycov=[]\n",
    "xexp=[]\n",
    "yexp=[]\n",
    "for i in range(25):\n",
    "    for j in range(25):\n",
    "        x=-3+0.3*i\n",
    "        y=-3+0.3*j\n",
    "        array,val,result=rosenberg_opt(np.array([x,y]),alpha)\n",
    "        if result=='tol exit':\n",
    "            xcov.append(x)\n",
    "            ycov.append(y)\n",
    "        elif result=='iter exit':\n",
    "            xexp.append(x)\n",
    "            yexp.append(y)\n",
    "            "
   ]
  },
  {
   "cell_type": "code",
   "execution_count": 68,
   "metadata": {
    "scrolled": true
   },
   "outputs": [
    {
     "data": {
      "text/plain": [
       "<matplotlib.collections.PathCollection at 0x206aa9dfa20>"
      ]
     },
     "execution_count": 68,
     "metadata": {},
     "output_type": "execute_result"
    },
    {
     "data": {
      "image/png": "[encoded data removed]",
      "text/plain": [
       "<matplotlib.figure.Figure at 0x206aa9bf278>"
      ]
     },
     "metadata": {},
     "output_type": "display_data"
    }
   ],
   "source": [
    "plt.scatter(xexp,yexp)\n",
    "plt.scatter(xcov,ycov)"
   ]
  },
  {
   "cell_type": "markdown",
   "metadata": {},
   "source": [
    "Problem 3"
   ]
  },
  {
   "cell_type": "code",
   "execution_count": 40,
   "metadata": {},
   "outputs": [],
   "source": [
    "def ackley(x):\n",
    "    res=20+exp(1)-20*exp(-0.2*sqrt(0.5*(x[0]**2+x[1]**2)))-exp(0.5*(cos(2*pi*x[0])+cos(2*pi*x[1])))\n",
    "    return res"
   ]
  },
  {
   "cell_type": "code",
   "execution_count": 45,
   "metadata": {},
   "outputs": [],
   "source": [
    "bounds1 = [(-1,3)]*2"
   ]
  },
  {
   "cell_type": "code",
   "execution_count": 52,
   "metadata": {
    "scrolled": true
   },
   "outputs": [
    {
     "data": {
      "text/plain": [
       "     fun: 0.0\n",
       " message: 'Optimization terminated successfully.'\n",
       "    nfev: 4323\n",
       "     nit: 215\n",
       " success: True\n",
       "       x: array([1., 1.])"
      ]
     },
     "execution_count": 52,
     "metadata": {},
     "output_type": "execute_result"
    }
   ],
   "source": [
    "differential_evolution(rosenberg,bounds=bounds1,strategy='rand1bin',popsize=10)"
   ]
  },
  {
   "cell_type": "code",
   "execution_count": 47,
   "metadata": {},
   "outputs": [],
   "source": [
    "bounds2 = [(-3,3)]*2"
   ]
  },
  {
   "cell_type": "code",
   "execution_count": 49,
   "metadata": {},
   "outputs": [],
   "source": [
    "differential_evolution(ackley,bounds=bounds2,strategy='rand1bin')"
   ]
  },
  {
   "cell_type": "code",
   "execution_count": 51,
   "metadata": {},
   "outputs": [
    {
     "data": {
      "text/plain": [
       "True"
      ]
     },
     "execution_count": 51,
     "metadata": {},
     "output_type": "execute_result"
    }
   ],
   "source": [
    "a['success']"
   ]
  },
  {
   "cell_type": "code",
   "execution_count": 53,
   "metadata": {},
   "outputs": [],
   "source": [
    "Flist=[0.1+0.2*i for i in range(10)]\n",
    "CRlist=[0.1*i for i in range(1,10)]\n",
    "#rosen success x\n",
    "rsx=[]\n",
    "rsy=[]\n",
    "#rosen unsuccess x\n",
    "rux=[]\n",
    "ruy=[]\n",
    "asx=[]\n",
    "asy=[]\n",
    "aux=[]\n",
    "auy=[]\n",
    "for F in Flist:\n",
    "    for CR in CRlist:\n",
    "        rres=differential_evolution(rosenberg,bounds=bounds1,strategy='rand1bin',popsize=10,mutation=F,recombination=CR)\n",
    "        ares=differential_evolution(ackley,bounds=bounds2,strategy='rand1bin',popsize=10,mutation=F,recombination=CR)\n",
    "        if rres['success']:\n",
    "            rsx.append(F)\n",
    "            rsy.append(CR)\n",
    "        else:\n",
    "            rux.append(F)\n",
    "            ruy.append(CR)\n",
    "        if ares['success']:\n",
    "            asx.append(F)\n",
    "            asy.append(CR)\n",
    "        else:\n",
    "            aux.append(F)\n",
    "            auy.append(CR)"
   ]
  },
  {
   "cell_type": "code",
   "execution_count": 70,
   "metadata": {},
   "outputs": [
    {
     "data": {
      "text/plain": [
       "Text(0,0.5,'CR')"
      ]
     },
     "execution_count": 70,
     "metadata": {},
     "output_type": "execute_result"
    },
    {
     "data": {
      "image/png": "[encoded data removed]",
      "text/plain": [
       "<matplotlib.figure.Figure at 0x206aa99ad68>"
      ]
     },
     "metadata": {},
     "output_type": "display_data"
    }
   ],
   "source": [
    "plt.scatter(rsx,rsy,c='b')\n",
    "plt.scatter(rux,ruy,c='r')\n",
    "plt.xlabel('F')\n",
    "plt.ylabel('CR')"
   ]
  },
  {
   "cell_type": "code",
   "execution_count": 71,
   "metadata": {},
   "outputs": [
    {
     "data": {
      "text/plain": [
       "Text(0,0.5,'CR')"
      ]
     },
     "execution_count": 71,
     "metadata": {},
     "output_type": "execute_result"
    },
    {
     "data": {
      "image/png": "[encoded data removed]",
      "text/plain": [
       "<matplotlib.figure.Figure at 0x206aaaaa7f0>"
      ]
     },
     "metadata": {},
     "output_type": "display_data"
    }
   ],
   "source": [
    "plt.scatter(asx,asy,c='b')\n",
    "plt.scatter(aux,auy,c='r')\n",
    "plt.xlabel('F')\n",
    "plt.ylabel('CR')"
   ]
  },
  {
   "cell_type": "code",
   "execution_count": 63,
   "metadata": {},
   "outputs": [
    {
     "name": "stderr",
     "output_type": "stream",
     "text": [
      "F:\\ananconda\\lib\\site-packages\\scipy\\optimize\\_differentialevolution.py:485: RuntimeWarning: divide by zero encountered in double_scalars\n",
      "  np.abs(np.mean(self.population_energies) + _MACHEPS))\n"
     ]
    }
   ],
   "source": [
    "#rosen success pop\n",
    "rsp=[]\n",
    "rup=[]\n",
    "asp=[]\n",
    "aup=[]\n",
    "for n in range(4,22):\n",
    "    rres=differential_evolution(rosenberg,bounds=bounds1,strategy='rand1bin',popsize=n,mutation=0.5,recombination=0.1)\n",
    "    ares=differential_evolution(ackley,bounds=bounds2,strategy='rand1bin',popsize=n,mutation=0.5,recombination=0.1)\n",
    "    if rres['success']:\n",
    "            rsp.append(n)\n",
    "    else:\n",
    "            rup.append(n)\n",
    "    if ares['success']:\n",
    "            asp.append(n)\n",
    "    else:\n",
    "            aup.append(n)"
   ]
  },
  {
   "cell_type": "code",
   "execution_count": 64,
   "metadata": {},
   "outputs": [
    {
     "data": {
      "text/plain": [
       "[4, 5, 8]"
      ]
     },
     "execution_count": 64,
     "metadata": {},
     "output_type": "execute_result"
    }
   ],
   "source": [
    "rsp"
   ]
  },
  {
   "cell_type": "code",
   "execution_count": 65,
   "metadata": {},
   "outputs": [
    {
     "data": {
      "text/plain": [
       "[4, 5, 6, 7, 8, 9, 10, 11, 12, 13, 14, 15, 16, 17, 18, 19, 20, 21]"
      ]
     },
     "execution_count": 65,
     "metadata": {},
     "output_type": "execute_result"
    }
   ],
   "source": [
    "asp"
   ]
  }
 ],
 "metadata": {
  "kernelspec": {
   "display_name": "Python 3",
   "language": "python",
   "name": "python3"
  },
  "language_info": {
   "codemirror_mode": {
    "name": "ipython",
    "version": 3
   },
   "file_extension": ".py",
   "mimetype": "text/x-python",
   "name": "python",
   "nbconvert_exporter": "python",
   "pygments_lexer": "ipython3",
   "version": "3.6.4"
  }
 },
 "nbformat": 4,
 "nbformat_minor": 2
}
