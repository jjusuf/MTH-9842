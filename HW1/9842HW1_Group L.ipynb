{
 "cells": [
  {
   "cell_type": "markdown",
   "metadata": {},
   "source": [
    "## MTH 9842\n",
    "## HW1\n",
    "\n",
    "### Group L: Yang Li, Zhirong Zhang, Tiangang Zhang, Jimmy Jusuf"
   ]
  },
  {
   "cell_type": "code",
   "execution_count": 1,
   "metadata": {},
   "outputs": [],
   "source": [
    "import numpy as np\n",
    "from scipy.optimize import least_squares,rosen, differential_evolution\n",
    "import pandas as pd\n",
    "from math import *\n",
    "import matplotlib.pyplot as plt"
   ]
  },
  {
   "cell_type": "markdown",
   "metadata": {},
   "source": [
    "### Problem 1"
   ]
  },
  {
   "cell_type": "code",
   "execution_count": 2,
   "metadata": {},
   "outputs": [],
   "source": [
    "data=pd.read_csv('Assignment1_data.csv',header=None,names=['T','value'])"
   ]
  },
  {
   "cell_type": "code",
   "execution_count": 3,
   "metadata": {},
   "outputs": [
    {
     "data": {
      "text/html": [
       "<div>\n",
       "<style scoped>\n",
       "    .dataframe tbody tr th:only-of-type {\n",
       "        vertical-align: middle;\n",
       "    }\n",
       "\n",
       "    .dataframe tbody tr th {\n",
       "        vertical-align: top;\n",
       "    }\n",
       "\n",
       "    .dataframe thead th {\n",
       "        text-align: right;\n",
       "    }\n",
       "</style>\n",
       "<table border=\"1\" class=\"dataframe\">\n",
       "  <thead>\n",
       "    <tr style=\"text-align: right;\">\n",
       "      <th></th>\n",
       "      <th>T</th>\n",
       "      <th>value</th>\n",
       "    </tr>\n",
       "  </thead>\n",
       "  <tbody>\n",
       "    <tr>\n",
       "      <th>0</th>\n",
       "      <td>1</td>\n",
       "      <td>1.0545</td>\n",
       "    </tr>\n",
       "    <tr>\n",
       "      <th>1</th>\n",
       "      <td>2</td>\n",
       "      <td>1.3095</td>\n",
       "    </tr>\n",
       "    <tr>\n",
       "      <th>2</th>\n",
       "      <td>3</td>\n",
       "      <td>1.4227</td>\n",
       "    </tr>\n",
       "    <tr>\n",
       "      <th>3</th>\n",
       "      <td>4</td>\n",
       "      <td>1.4830</td>\n",
       "    </tr>\n",
       "    <tr>\n",
       "      <th>4</th>\n",
       "      <td>5</td>\n",
       "      <td>1.4368</td>\n",
       "    </tr>\n",
       "    <tr>\n",
       "      <th>5</th>\n",
       "      <td>6</td>\n",
       "      <td>1.4489</td>\n",
       "    </tr>\n",
       "    <tr>\n",
       "      <th>6</th>\n",
       "      <td>7</td>\n",
       "      <td>1.3539</td>\n",
       "    </tr>\n",
       "    <tr>\n",
       "      <th>7</th>\n",
       "      <td>8</td>\n",
       "      <td>1.1982</td>\n",
       "    </tr>\n",
       "    <tr>\n",
       "      <th>8</th>\n",
       "      <td>9</td>\n",
       "      <td>1.1230</td>\n",
       "    </tr>\n",
       "    <tr>\n",
       "      <th>9</th>\n",
       "      <td>10</td>\n",
       "      <td>0.9866</td>\n",
       "    </tr>\n",
       "  </tbody>\n",
       "</table>\n",
       "</div>"
      ],
      "text/plain": [
       "    T   value\n",
       "0   1  1.0545\n",
       "1   2  1.3095\n",
       "2   3  1.4227\n",
       "3   4  1.4830\n",
       "4   5  1.4368\n",
       "5   6  1.4489\n",
       "6   7  1.3539\n",
       "7   8  1.1982\n",
       "8   9  1.1230\n",
       "9  10  0.9866"
      ]
     },
     "execution_count": 3,
     "metadata": {},
     "output_type": "execute_result"
    }
   ],
   "source": [
    "data"
   ]
  },
  {
   "cell_type": "markdown",
   "metadata": {},
   "source": [
    "Define function $g(x, T)=x_1+x_2\\exp(x_3 T)+x_4\\exp(x_5 T), x=(x_1,x_2,x_3,x_4,x_5) \\in \\mathbb{R}^5$"
   ]
  },
  {
   "cell_type": "code",
   "execution_count": 4,
   "metadata": {},
   "outputs": [],
   "source": [
    "def g(x, T):\n",
    "    '''\n",
    "    input: x, of shape (5,); independent variables\n",
    "           T, vector\n",
    "    return a vector of len(T)\n",
    "    the code relies on numpy broadcasting across vector T\n",
    "    '''\n",
    "    assert x.shape==(5,)\n",
    "    result=x[0]+x[1]*np.exp(x[2]*T)+x[3]*np.exp(x[4]*T)\n",
    "    assert result.shape==T.shape\n",
    "    return result"
   ]
  },
  {
   "cell_type": "code",
   "execution_count": 5,
   "metadata": {},
   "outputs": [],
   "source": [
    "# rosenbrock function, not used, for testing purpose\n",
    "def fun_rosenbrock_2(x):\n",
    "    return np.array([10 * (x[1] - x[0]**2), (1 - x[0])])"
   ]
  },
  {
   "cell_type": "code",
   "execution_count": 6,
   "metadata": {},
   "outputs": [],
   "source": [
    "# computes vector of residuals\n",
    "def g_residuals(x, *args, **kwargs):\n",
    "    # assert x.shape==(5,)\n",
    "    T=data['T']\n",
    "    v=data['value']\n",
    "    resid=np.zeros(len(T))\n",
    "    resid=g(x, T)-v\n",
    "    return resid"
   ]
  },
  {
   "cell_type": "code",
   "execution_count": 7,
   "metadata": {},
   "outputs": [],
   "source": [
    "# solve unconstrained non-linear least square problem using Levenberg-Marquardt algorithm\n",
    "\n",
    "# use all zeros as initial guess of independent variables\n",
    "x_ini=np.zeros(5)\n",
    "\n",
    "res_1=least_squares(g_residuals, x_ini, method='lm')"
   ]
  },
  {
   "cell_type": "code",
   "execution_count": 8,
   "metadata": {},
   "outputs": [
    {
     "name": "stdout",
     "output_type": "stream",
     "text": [
      "Success True\n",
      "`ftol` termination condition is satisfied.\n"
     ]
    }
   ],
   "source": [
    "# reason for algorithm termination\n",
    "print(\"Success\", res_1.success);\n",
    "print(res_1.message)"
   ]
  },
  {
   "cell_type": "code",
   "execution_count": 9,
   "metadata": {},
   "outputs": [
    {
     "data": {
      "text/plain": [
       "array([ 7.18894871e+01, -1.95674736e+00, -3.32394891e-01, -6.92739390e+01,\n",
       "        2.22777481e-03])"
      ]
     },
     "execution_count": 9,
     "metadata": {},
     "output_type": "execute_result"
    }
   ],
   "source": [
    "# solutions found\n",
    "res_1.x"
   ]
  },
  {
   "cell_type": "code",
   "execution_count": 10,
   "metadata": {},
   "outputs": [
    {
     "data": {
      "text/plain": [
       "0.0018950442194381049"
      ]
     },
     "execution_count": 10,
     "metadata": {},
     "output_type": "execute_result"
    }
   ],
   "source": [
    "# value of the cost function at the solution\n",
    "res_1.cost"
   ]
  },
  {
   "cell_type": "code",
   "execution_count": 11,
   "metadata": {},
   "outputs": [
    {
     "data": {
      "text/plain": [
       "array([ 0.00316225, -0.00980889,  0.00644078, -0.00525024,  0.03148083,\n",
       "       -0.03184068, -0.01810642,  0.0346807 , -0.00865713, -0.002101  ])"
      ]
     },
     "execution_count": 11,
     "metadata": {},
     "output_type": "execute_result"
    }
   ],
   "source": [
    "# vector of residuals at the solution\n",
    "res_1.fun"
   ]
  },
  {
   "cell_type": "code",
   "execution_count": 12,
   "metadata": {},
   "outputs": [
    {
     "data": {
      "text/plain": [
       "802"
      ]
     },
     "execution_count": 12,
     "metadata": {},
     "output_type": "execute_result"
    }
   ],
   "source": [
    "# number of function evaluations done\n",
    "res_1.nfev"
   ]
  },
  {
   "cell_type": "markdown",
   "metadata": {},
   "source": [
    "### Problem 2"
   ]
  },
  {
   "cell_type": "code",
   "execution_count": 13,
   "metadata": {},
   "outputs": [],
   "source": [
    "def rosen_der(x):\n",
    "    '''\n",
    "    computes gradient of rosenbrock function\n",
    "    input: x(2,)\n",
    "    output: array of length 2 representing the gradient\n",
    "    '''\n",
    "    return np.array([2*(x[0]-1)-400*(x[1]-x[0]**2)*x[0],\n",
    "                     200*(x[1]-x[0]**2)])\n",
    "\n",
    "def rosenbrock(x):\n",
    "    '''\n",
    "    rosenbrock function\n",
    "    input: x(2,)\n",
    "    '''\n",
    "    return (x[0]-1)**2+100*(x[1]-x[0]**2)**2\n",
    "\n",
    "# keep stats during descent\n",
    "l_x=[]  # list of x\n",
    "l_cmin=[]  # list function values\n",
    "l_resid=[]  # list of residuals\n",
    "l_ba=[]  # list of learning rates used\n",
    "l_der=[]  # list of gradients\n",
    "\n",
    "# step size/learning rate to try\n",
    "alpha=[0.001,0.002,0.003,0.004,0.005,0.1,0.5]\n",
    "\n",
    "def rosenbrock_opt(x,alpha,tol1=1e-12,tol2=1e-6):\n",
    "    '''\n",
    "    implement gradient descent algorithm on rosenbrock function\n",
    "    input: x(2,) initial guesses\n",
    "           alpha() list of learning rates, the algorithm will choose one by means of a line search\n",
    "    output: \n",
    "    '''\n",
    "    it=0  # number of iteration\n",
    "    #global l_x, l_cmin, l_resid, l_ba, l_der\n",
    "    l_x.clear()\n",
    "    l_cmin.clear()\n",
    "    l_resid.clear()\n",
    "    l_ba.clear()\n",
    "    l_der.clear()\n",
    "    while True:\n",
    "        it+=1\n",
    "        crosen=rosenbrock(x)\n",
    "        der=rosen_der(x)\n",
    "        # select alpha\n",
    "        ba=alpha[0]\n",
    "        cmin=rosenbrock(x-der*ba)\n",
    "        for i in range(1,len(alpha)):\n",
    "            val=rosenbrock(x-der*alpha[i])\n",
    "            if val<cmin:\n",
    "                ba=alpha[i]\n",
    "                cmin=val\n",
    "        # keep trails of the algorithm\n",
    "        l_der.append(der)\n",
    "        l_ba.append(ba)\n",
    "        l_cmin.append(cmin)\n",
    "        l_x.append(x)\n",
    "        # update x estimates\n",
    "        x=x-der*ba\n",
    "        if abs(der).all()<tol1 and abs(cmin-crosen)<tol2:\n",
    "        #if abs(cmin-crosen)<tol2:\n",
    "            return x,cmin,'tol exit',it\n",
    "        elif it>10000:\n",
    "            return x,cmin,'iter exit',it"
   ]
  },
  {
   "cell_type": "code",
   "execution_count": 14,
   "metadata": {},
   "outputs": [
    {
     "data": {
      "text/plain": [
       "(array([1., 1.]), 3.1049022887626685e-26, 'tol exit', 2574)"
      ]
     },
     "execution_count": 14,
     "metadata": {},
     "output_type": "execute_result"
    }
   ],
   "source": [
    "# gradient descent with initial guess (0,0)\n",
    "rosenbrock_opt(np.array([0.,0.]),alpha,tol1=1,tol2=1e-12)"
   ]
  },
  {
   "cell_type": "code",
   "execution_count": 15,
   "metadata": {},
   "outputs": [
    {
     "data": {
      "text/plain": [
       "<matplotlib.axes._subplots.AxesSubplot at 0x101de75ac8>"
      ]
     },
     "execution_count": 15,
     "metadata": {},
     "output_type": "execute_result"
    },
    {
     "data": {
      "image/png": "[encoded data removed]",
      "text/plain": [
       "<Figure size 432x288 with 1 Axes>"
      ]
     },
     "metadata": {
      "needs_background": "light"
     },
     "output_type": "display_data"
    }
   ],
   "source": [
    "# plot function value during each iteration\n",
    "obj=pd.Series(l_cmin)\n",
    "obj.plot()"
   ]
  },
  {
   "cell_type": "code",
   "execution_count": 16,
   "metadata": {},
   "outputs": [
    {
     "data": {
      "text/plain": [
       "(array([ 156, 1696,  405,  108,   77,  132]),\n",
       " array([0.001, 0.002, 0.003, 0.004, 0.005, 0.1  , 0.5  ]))"
      ]
     },
     "execution_count": 16,
     "metadata": {},
     "output_type": "execute_result"
    }
   ],
   "source": [
    "# check that the learning rates used are reasonable\n",
    "np.histogram(l_ba,bins=alpha)"
   ]
  },
  {
   "cell_type": "code",
   "execution_count": 17,
   "metadata": {},
   "outputs": [
    {
     "data": {
      "text/plain": [
       "(array([1., 1.]), 2.889972697792612e-25, 'tol exit', 1144)"
      ]
     },
     "execution_count": 17,
     "metadata": {},
     "output_type": "execute_result"
    }
   ],
   "source": [
    "# initial guess (1.2, 1.2)\n",
    "rosenbrock_opt(np.array([1.2,1.2]),alpha,tol2=1e-8)"
   ]
  },
  {
   "cell_type": "code",
   "execution_count": 18,
   "metadata": {},
   "outputs": [
    {
     "data": {
      "text/plain": [
       "<matplotlib.axes._subplots.AxesSubplot at 0x101dfa87f0>"
      ]
     },
     "execution_count": 18,
     "metadata": {},
     "output_type": "execute_result"
    },
    {
     "data": {
      "image/png": "[encoded data removed]",
      "text/plain": [
       "<Figure size 432x288 with 1 Axes>"
      ]
     },
     "metadata": {
      "needs_background": "light"
     },
     "output_type": "display_data"
    }
   ],
   "source": [
    "# plot function value during each iteration\n",
    "obj=pd.Series(l_cmin)\n",
    "obj.plot()"
   ]
  },
  {
   "cell_type": "code",
   "execution_count": 20,
   "metadata": {},
   "outputs": [
    {
     "name": "stderr",
     "output_type": "stream",
     "text": [
      "/Users/lina/anaconda3/lib/python3.7/site-packages/ipykernel_launcher.py:15: RuntimeWarning: overflow encountered in double_scalars\n",
      "  from ipykernel import kernelapp as app\n",
      "/Users/lina/anaconda3/lib/python3.7/site-packages/ipykernel_launcher.py:7: RuntimeWarning: overflow encountered in double_scalars\n",
      "  import sys\n",
      "/Users/lina/anaconda3/lib/python3.7/site-packages/ipykernel_launcher.py:8: RuntimeWarning: overflow encountered in double_scalars\n",
      "  \n",
      "/Users/lina/anaconda3/lib/python3.7/site-packages/ipykernel_launcher.py:15: RuntimeWarning: invalid value encountered in double_scalars\n",
      "  from ipykernel import kernelapp as app\n",
      "/Users/lina/anaconda3/lib/python3.7/site-packages/ipykernel_launcher.py:7: RuntimeWarning: invalid value encountered in double_scalars\n",
      "  import sys\n",
      "/Users/lina/anaconda3/lib/python3.7/site-packages/ipykernel_launcher.py:8: RuntimeWarning: invalid value encountered in double_scalars\n",
      "  \n",
      "/Users/lina/anaconda3/lib/python3.7/site-packages/ipykernel_launcher.py:47: RuntimeWarning: invalid value encountered in subtract\n",
      "/Users/lina/anaconda3/lib/python3.7/site-packages/ipykernel_launcher.py:49: RuntimeWarning: invalid value encountered in subtract\n",
      "/Users/lina/anaconda3/lib/python3.7/site-packages/ipykernel_launcher.py:59: RuntimeWarning: invalid value encountered in subtract\n"
     ]
    }
   ],
   "source": [
    "# run gradient descent with initial guess x,y vary from -3 to +3.75\n",
    "xcov=[]\n",
    "ycov=[]\n",
    "xexp=[]\n",
    "yexp=[]\n",
    "for i in range(25):\n",
    "    for j in range(25):\n",
    "        x=-3+0.3*i\n",
    "        y=-3+0.3*j\n",
    "        array,funval,status,_=rosenbrock_opt(np.array([x,y]),alpha)\n",
    "        if status=='tol exit':\n",
    "            xcov.append(x)\n",
    "            ycov.append(y)\n",
    "        elif status=='iter exit':\n",
    "            xexp.append(x)\n",
    "            yexp.append(y)\n",
    "            "
   ]
  },
  {
   "cell_type": "code",
   "execution_count": 21,
   "metadata": {
    "scrolled": true
   },
   "outputs": [
    {
     "data": {
      "text/plain": [
       "<matplotlib.collections.PathCollection at 0x101e44ecf8>"
      ]
     },
     "execution_count": 21,
     "metadata": {},
     "output_type": "execute_result"
    },
    {
     "data": {
      "image/png": "[encoded data removed]",
      "text/plain": [
       "<Figure size 432x288 with 1 Axes>"
      ]
     },
     "metadata": {
      "needs_background": "light"
     },
     "output_type": "display_data"
    }
   ],
   "source": [
    "plt.scatter(xexp,yexp)\n",
    "plt.scatter(xcov,ycov,facecolor='red')"
   ]
  },
  {
   "cell_type": "markdown",
   "metadata": {},
   "source": [
    "Conclusion: gradient descent algorithm applied to Rosenbrock function generally suffers from slow convergence once it hits the valley. Finding the valley is trivial, but once inside the valley finding global minimum is very slow."
   ]
  },
  {
   "cell_type": "markdown",
   "metadata": {},
   "source": [
    "### Problem 3"
   ]
  },
  {
   "cell_type": "code",
   "execution_count": 22,
   "metadata": {},
   "outputs": [],
   "source": [
    "def ackley(x):\n",
    "    res=20+exp(1)-20*exp(-0.2*sqrt(0.5*(x[0]**2+x[1]**2)))-exp(0.5*(cos(2*pi*x[0])+cos(2*pi*x[1])))\n",
    "    return res"
   ]
  },
  {
   "cell_type": "code",
   "execution_count": 23,
   "metadata": {},
   "outputs": [],
   "source": [
    "bounds1 = [(-1,3)]*2"
   ]
  },
  {
   "cell_type": "code",
   "execution_count": 24,
   "metadata": {
    "scrolled": true
   },
   "outputs": [
    {
     "data": {
      "text/plain": [
       "     fun: 0.0\n",
       " message: 'Optimization terminated successfully.'\n",
       "    nfev: 4583\n",
       "     nit: 228\n",
       " success: True\n",
       "       x: array([1., 1.])"
      ]
     },
     "execution_count": 24,
     "metadata": {},
     "output_type": "execute_result"
    }
   ],
   "source": [
    "differential_evolution(rosenbrock,bounds=bounds1,strategy='rand1bin',popsize=10)"
   ]
  },
  {
   "cell_type": "code",
   "execution_count": 25,
   "metadata": {},
   "outputs": [],
   "source": [
    "bounds2 = [(-3,3)]*2"
   ]
  },
  {
   "cell_type": "code",
   "execution_count": 26,
   "metadata": {},
   "outputs": [
    {
     "data": {
      "text/plain": [
       "     fun: -4.440892098500626e-16\n",
       " message: 'Optimization terminated successfully.'\n",
       "    nfev: 4833\n",
       "     nit: 158\n",
       " success: True\n",
       "       x: array([ 0.00000000e+00, -3.33066907e-16])"
      ]
     },
     "execution_count": 26,
     "metadata": {},
     "output_type": "execute_result"
    }
   ],
   "source": [
    "differential_evolution(ackley,bounds=bounds2,strategy='rand1bin')"
   ]
  },
  {
   "cell_type": "code",
   "execution_count": 28,
   "metadata": {},
   "outputs": [],
   "source": [
    "Flist=[0.1+0.2*i for i in range(10)]\n",
    "CRlist=[0.1*i for i in range(1,10)]\n",
    "#rosen success x\n",
    "rsx=[]\n",
    "rsy=[]\n",
    "#rosen unsuccess x\n",
    "rux=[]\n",
    "ruy=[]\n",
    "asx=[]\n",
    "asy=[]\n",
    "aux=[]\n",
    "auy=[]\n",
    "for F in Flist:\n",
    "    for CR in CRlist:\n",
    "        rres=differential_evolution(rosenbrock,bounds=bounds1,strategy='rand1bin',popsize=10,mutation=F,recombination=CR)\n",
    "        ares=differential_evolution(ackley,bounds=bounds2,strategy='rand1bin',popsize=10,mutation=F,recombination=CR)\n",
    "        if rres['success']:\n",
    "            rsx.append(F)\n",
    "            rsy.append(CR)\n",
    "        else:\n",
    "            rux.append(F)\n",
    "            ruy.append(CR)\n",
    "        if ares['success']:\n",
    "            asx.append(F)\n",
    "            asy.append(CR)\n",
    "        else:\n",
    "            aux.append(F)\n",
    "            auy.append(CR)"
   ]
  },
  {
   "cell_type": "code",
   "execution_count": 29,
   "metadata": {},
   "outputs": [
    {
     "data": {
      "text/plain": [
       "Text(0,0.5,'CR')"
      ]
     },
     "execution_count": 29,
     "metadata": {},
     "output_type": "execute_result"
    },
    {
     "data": {
      "image/png": "[encoded data removed]",
      "text/plain": [
       "<Figure size 432x288 with 1 Axes>"
      ]
     },
     "metadata": {
      "needs_background": "light"
     },
     "output_type": "display_data"
    }
   ],
   "source": [
    "plt.scatter(rsx,rsy,c='b')\n",
    "plt.scatter(rux,ruy,c='r')\n",
    "plt.xlabel('F')\n",
    "plt.ylabel('CR')"
   ]
  },
  {
   "cell_type": "code",
   "execution_count": 30,
   "metadata": {},
   "outputs": [
    {
     "data": {
      "text/plain": [
       "Text(0,0.5,'CR')"
      ]
     },
     "execution_count": 30,
     "metadata": {},
     "output_type": "execute_result"
    },
    {
     "data": {
      "image/png": "[encoded data removed]",
      "text/plain": [
       "<Figure size 432x288 with 1 Axes>"
      ]
     },
     "metadata": {
      "needs_background": "light"
     },
     "output_type": "display_data"
    }
   ],
   "source": [
    "plt.scatter(asx,asy,c='b')\n",
    "plt.scatter(aux,auy,c='r')\n",
    "plt.xlabel('F')\n",
    "plt.ylabel('CR')"
   ]
  },
  {
   "cell_type": "code",
   "execution_count": 31,
   "metadata": {},
   "outputs": [
    {
     "name": "stderr",
     "output_type": "stream",
     "text": [
      "/Users/lina/anaconda3/lib/python3.7/site-packages/scipy/optimize/_differentialevolution.py:555: RuntimeWarning: divide by zero encountered in double_scalars\n",
      "  np.abs(np.mean(self.population_energies) + _MACHEPS))\n"
     ]
    }
   ],
   "source": [
    "#rosen success pop\n",
    "rsp=[]\n",
    "rup=[]\n",
    "asp=[]\n",
    "aup=[]\n",
    "for n in range(4,22):\n",
    "    rres=differential_evolution(rosenbrock,bounds=bounds1,strategy='rand1bin',popsize=n,mutation=0.5,recombination=0.1)\n",
    "    ares=differential_evolution(ackley,bounds=bounds2,strategy='rand1bin',popsize=n,mutation=0.5,recombination=0.1)\n",
    "    if rres['success']:\n",
    "            rsp.append(n)\n",
    "    else:\n",
    "            rup.append(n)\n",
    "    if ares['success']:\n",
    "            asp.append(n)\n",
    "    else:\n",
    "            aup.append(n)"
   ]
  },
  {
   "cell_type": "code",
   "execution_count": 32,
   "metadata": {},
   "outputs": [
    {
     "data": {
      "text/plain": [
       "[4, 5, 10]"
      ]
     },
     "execution_count": 32,
     "metadata": {},
     "output_type": "execute_result"
    }
   ],
   "source": [
    "rsp"
   ]
  },
  {
   "cell_type": "code",
   "execution_count": 33,
   "metadata": {},
   "outputs": [
    {
     "data": {
      "text/plain": [
       "[4, 5, 6, 7, 8, 9, 10, 11, 12, 13, 14, 15, 16, 17, 18, 19, 20, 21]"
      ]
     },
     "execution_count": 33,
     "metadata": {},
     "output_type": "execute_result"
    }
   ],
   "source": [
    "asp"
   ]
  },
  {
   "cell_type": "code",
   "execution_count": null,
   "metadata": {},
   "outputs": [],
   "source": []
  }
 ],
 "metadata": {
  "kernelspec": {
   "display_name": "Python 3",
   "language": "python",
   "name": "python3"
  },
  "language_info": {
   "codemirror_mode": {
    "name": "ipython",
    "version": 3
   },
   "file_extension": ".py",
   "mimetype": "text/x-python",
   "name": "python",
   "nbconvert_exporter": "python",
   "pygments_lexer": "ipython3",
   "version": "3.7.0"
  }
 },
 "nbformat": 4,
 "nbformat_minor": 2
}
