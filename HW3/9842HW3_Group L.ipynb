{
 "cells": [
  {
   "cell_type": "markdown",
   "metadata": {},
   "source": [
    "# MTH9842 HW3\n",
    "## Group L\n",
    "## Yang Li, Jimmy Jusuf, Zhirong Zhang, Tiangang Zhang\n",
    "## December 5, 2018"
   ]
  },
  {
   "cell_type": "markdown",
   "metadata": {
    "collapsed": true
   },
   "source": [
    "### Question 1"
   ]
  },
  {
   "cell_type": "markdown",
   "metadata": {},
   "source": [
    "#### (i) Prove log-concave"
   ]
  },
  {
   "cell_type": "markdown",
   "metadata": {},
   "source": [
    "#### a. Normal\n",
    "$$\n",
    "f(x) = \\frac{1}{\\sqrt{2 \\pi \\sigma^2}} e^{-\\frac{(x-\\mu)^2}{2 \\sigma^2}} \\\\\n",
    "$$\n",
    "\n",
    "The distribution density is always equal to or greater than zero.\n",
    "\n",
    "$$\n",
    "\\log[f(x)] = {-\\frac{(x-\\mu)^2}{2 \\sigma^2}} + \\log(\\frac{1}{\\sqrt{2 \\pi \\sigma^2}}) \\\\\n",
    "$$\n",
    "\n",
    "Assume two different numbers y1 and y2, we have \n",
    "$$\n",
    "\\log[f(\\alpha y1 + (1-\\alpha) y2)] = {-\\frac{(\\alpha y1 + (1-\\alpha) y2-\\mu)^2}{2 \\sigma^2}} + \\log(\\frac{1}{\\sqrt{2 \\pi \\sigma^2}}) \\\\\n",
    "\\alpha \\log[f(y1)] = {-\\frac{\\alpha(y1-\\mu)^2}{2 \\sigma^2}} + \\alpha \\log(\\frac{1}{\\sqrt{2 \\pi \\sigma^2}}) \\\\\n",
    "(1-\\alpha)\\log[f(y2)] = {-\\frac{(1-\\alpha)(y2-\\mu)^2}{2 \\sigma^2}} + (1-\\alpha) \\log(\\frac{1}{\\sqrt{2 \\pi \\sigma^2}}) \\\\\n",
    "$$\n",
    "\n",
    "Then based on the definition of the concave function, we calculate the below inequality, \n",
    "$$\n",
    "2\\sigma^2 \\left[\\alpha \\log[f(y1)]+(1-\\alpha)\\log[f(y2)]-\\log[f(\\alpha y1 + (1-\\alpha) y2)]\\right] \\\\\n",
    "= -\\alpha y1^2 - (1-\\alpha)y2^2 + [(\\alpha y1 + (1-\\alpha) y2]^2 \\\\\n",
    "= -(1-\\alpha)\\alpha (y1^2+y2^2-y1y2) \\\\\n",
    "= -(1-\\alpha)\\alpha [(y1-\\frac{y2}{2})^2 + \\frac34 {y2}^2] \\\\\n",
    "<= 0 \\\\\n",
    "$$"
   ]
  },
  {
   "cell_type": "markdown",
   "metadata": {},
   "source": [
    "Therefore the normal density is log-concave from the above result. "
   ]
  },
  {
   "cell_type": "markdown",
   "metadata": {},
   "source": [
    "#### b. multinormal\n",
    "$$\n",
    "f(x) = \\frac{1}{(2\\pi)^{p/2}|\\Sigma|^{1/2}} e^{-\\frac12 (x-\\mu)^T \\Sigma^{-1} (x-\\mu)}\n",
    "$$\n",
    "\n",
    "The distribution density is always equal to or greater than zero."
   ]
  },
  {
   "cell_type": "markdown",
   "metadata": {},
   "source": [
    "Following the same method for normal distribution. we have, \n",
    "$$\n",
    "\\log[f(x)] = {-\\frac12 (x-\\mu)^T \\Sigma^{-1} (x-\\mu)} + \\log(\\frac{1}{(2\\pi)^{p/2}|\\Sigma|^{1/2}}) \\\\\n",
    "$$"
   ]
  },
  {
   "cell_type": "markdown",
   "metadata": {},
   "source": [
    "Also assume two different multi-dimensional vectors y1 and y2, where $\\alpha$ is a scalar, we have \n",
    "$$\n",
    "\\log[f(\\alpha y1 + (1-\\alpha) y2)] = {-\\frac12 (\\alpha y1 + (1-\\alpha) y2-\\mu)^T \\Sigma^{-1} (\\alpha y1 + (1-\\alpha) y2-\\mu)} + \\log(\\frac{1}{(2\\pi)^{p/2}|\\Sigma|^{1/2}}) \\\\\n",
    "\\alpha \\log[f(y1)] = {-\\frac{\\alpha}{2} (y1-\\mu)^T \\Sigma^{-1} (y1-\\mu)} + \\alpha \\log(\\frac{1}{(2\\pi)^{p/2}|\\Sigma|^{1/2}}) \\\\\n",
    "(1-\\alpha) \\log[f(y2)] = {-\\frac{(1-\\alpha)}{2} (y2-\\mu)^T \\Sigma^{-1} (y2-\\mu)} + (1-\\alpha) \\log(\\frac{1}{(2\\pi)^{p/2}|\\Sigma|^{1/2}}) \\\\\n",
    "$$"
   ]
  },
  {
   "cell_type": "markdown",
   "metadata": {},
   "source": [
    "Then based on the definition of the concave function, we calculate the below inequality, \n",
    "$$\n",
    "\\log[f(\\alpha y1 + (1-\\alpha) y2)] - \\alpha \\log[f(y1)]- (1-\\alpha) \\log[f(y2)] \\\\\n",
    "= -\\frac12(\\alpha y1^T)\\Sigma^{-1}(\\alpha y1) + \\frac12(\\alpha y1^T)\\Sigma^{-1}(y1) -\\frac12((1-\\alpha) y2^T)\\Sigma^{-1}[(1-\\alpha) y2] + \\frac12[(1-\\alpha) y2^T]\\Sigma^{-1}(y2) - (\\alpha y1^T)\\Sigma^{-1}[(1-\\alpha) y2] \\\\\n",
    "= \\frac{\\alpha-\\alpha^2}{2}(y1^T)\\Sigma^{-1}(y1) + \\frac{(1-\\alpha) - (1-\\alpha)^2}{2}(y2^T)\\Sigma^{-1}(y2) - \\alpha(1-\\alpha)(y1^T)\\Sigma^{-1}(y2) \\\\\n",
    "= \\frac{\\alpha(1-\\alpha)}{2}(y2^T)\\Sigma^{-1}(y2) + \\frac{\\alpha(1-\\alpha)}{2}(y1^T)\\Sigma^{-1}(y1) - \\alpha(1-\\alpha)(y1^T)\\Sigma^{-1}(y2) \\\\\n",
    "= \\frac{\\alpha(1-\\alpha)}{2}[(y2^T)\\Sigma^{-1}(y2) - 2(y1^T)\\Sigma^{-1}(y2) + (y1^T)\\Sigma^{-1}(y1)] \\\\ >= 0\n",
    "$$"
   ]
  },
  {
   "cell_type": "markdown",
   "metadata": {},
   "source": [
    "Therefore the multinormal density is also log-concave from the above result."
   ]
  },
  {
   "cell_type": "markdown",
   "metadata": {},
   "source": [
    "#### c. exponential\n",
    "\n",
    "When x>= 0 \n",
    "$$\n",
    "f(x) = \\lambda e^{-\\lambda x} \\\\\n",
    "$$\n",
    "The distribution density is always equal to or greater than zero."
   ]
  },
  {
   "cell_type": "markdown",
   "metadata": {},
   "source": [
    "$$\n",
    "\\log [f(x)] = -\\lambda x + \\log(\\lambda) \\\\\n",
    "$$"
   ]
  },
  {
   "cell_type": "markdown",
   "metadata": {},
   "source": [
    "Assume two different numbers y1 and y2, we have \n",
    "$$\n",
    "\\log[f(\\alpha y1 + (1-\\alpha) y2)] = -\\lambda (\\alpha y1 + (1-\\alpha) y2) + \\log(\\lambda) \\\\\n",
    "\\alpha \\log[f(y1)] = -\\alpha \\lambda (y1) + \\alpha \\log(\\lambda) \\\\\n",
    "(1-\\alpha) \\log[f(y2)] = -(1-\\alpha) \\lambda (y2) + (1-\\alpha) \\log(\\lambda) \\\\\n",
    "$$"
   ]
  },
  {
   "cell_type": "markdown",
   "metadata": {},
   "source": [
    "Then based on the definition of concave function, we calculate as below\n",
    "\n",
    "$$\n",
    "\\log[f(\\alpha y1 + (1-\\alpha) y2)] - \\alpha \\log[f(y1)] - (1-\\alpha)\\log[f(y2)] \\\\\n",
    "= -\\lambda (\\alpha y1 + (1-\\alpha) y2) + \\alpha \\lambda (y1) + (1-\\alpha) \\lambda (y2) \\\\\n",
    "= 0 \\\\\n",
    ">= 0 \\\\\n",
    "$$"
   ]
  },
  {
   "cell_type": "markdown",
   "metadata": {},
   "source": [
    "Therefore the exponential density is log-concave from the above result. "
   ]
  },
  {
   "cell_type": "markdown",
   "metadata": {},
   "source": [
    "#### d. logistic\n",
    "$$\n",
    "f(x) = \\frac{e^{-(x-\\mu)/s}}{s(1+e^{-(x-\\mu)/s})^2} \\\\\n",
    "$$\n",
    "The distribution density is always equal to or greater than zero."
   ]
  },
  {
   "cell_type": "markdown",
   "metadata": {},
   "source": [
    "$$\n",
    "\\log [f(x)] = -(x-\\mu)/s - \\log(s) - 2\\log(1+e^{-(x-\\mu)/s}) \\\\\n",
    "$$"
   ]
  },
  {
   "cell_type": "markdown",
   "metadata": {},
   "source": [
    "Take the second derivative to this log function, we have\n",
    "$$\n",
    "\\log [f(x)]'' = \\frac{2}{s^2} \\frac{e^{-(x-\\mu)/s}}{(1+e^{-(x-\\mu)/s})^2} - \\frac{2}{s^2} \\frac{e^{-(x-\\mu)/s}}{(1+e^{-(x-\\mu)/s})} <= 0\n",
    "$$"
   ]
  },
  {
   "cell_type": "markdown",
   "metadata": {},
   "source": [
    "Therefore the logistic density is log-concave from the above result. "
   ]
  },
  {
   "cell_type": "markdown",
   "metadata": {},
   "source": [
    "#### (2) Kullback-Leibler distance"
   ]
  },
  {
   "cell_type": "markdown",
   "metadata": {},
   "source": [
    "By definition, we have\n",
    "$$\n",
    "KL = \\sum{p_i \\log{\\frac{p_i}{q_i(\\theta)}}} \\\\\n",
    "$$\n",
    "and $q_i(\\theta)$ is a log-concave function.\n",
    "\n",
    "For each component i, we have\n",
    "$$\n",
    "KL_i = p_i \\log{p_i} - p_i \\log{q_i(\\theta)} \\\\ \n",
    "$$\n",
    "\n",
    "Assume two different parameters $\\theta_1$ and $\\theta_2$, we have\n",
    "$$\n",
    "KL_i|_{\\alpha \\theta_1 + (1-\\alpha) \\theta2} = p_i \\log{p_i} - p_i \\log{q_i[\\alpha \\theta_1 + (1-\\alpha) \\theta2]} \\\\ \n",
    "\\alpha KL_i|_{\\theta_1} = \\alpha p_i \\log{p_i} - \\alpha p_i \\log{q_i(\\theta_1)} \\\\ \n",
    "(1-\\alpha) KL_i|_{\\theta2} = (1-\\alpha) p_i \\log{p_i} - (1-\\alpha) p_i \\log{q_i(\\theta2)} \\\\ \n",
    "$$\n",
    "\n",
    "Then\n",
    "$$\n",
    "\\alpha KL_i|_{\\theta_1} + (1-\\alpha) KL_i|_{\\theta2} - KL_i|_{\\alpha \\theta_1 + (1-\\alpha) \\theta2} \\\\\n",
    "= - \\alpha p_i \\log{q_i(\\theta_1)} - (1-\\alpha) p_i \\log{q_i(\\theta_2)} + p_i \\log{q_i[\\alpha \\theta_1 + (1-\\alpha) \\theta_2]} \\\\\n",
    "= p_i [ \\log{q_i(\\alpha \\theta_1 + (1-\\alpha) \\theta_2)} - \\alpha \\log{q_i(\\theta_1)} - (1-\\alpha) \\log{q_i(\\theta_2)}] \\\\\n",
    "$$\n",
    "Given $q_i(\\theta)$ is a log-concave function, we have \n",
    "$$\n",
    "\\log{q_i(\\alpha \\theta_1 + (1-\\alpha) \\theta_2)} - \\alpha \\log{q_i(\\theta_1)} - (1-\\alpha) \\log{q_i(\\theta_2)} >= 0\n",
    "$$\n",
    "Therefore, \n",
    "$$\n",
    "\\alpha KL_i|_{\\theta_1} + (1-\\alpha) KL_i|_{\\theta2} - KL_i|_{\\alpha \\theta_1 + (1-\\alpha) \\theta2} >= 0\n",
    "$$\n",
    "which means each KL term/component is convex. Consequently, the sum of the convex fucntions is also convex. \n"
   ]
  },
  {
   "cell_type": "markdown",
   "metadata": {
    "collapsed": true
   },
   "source": [
    "### Question 2 "
   ]
  },
  {
   "cell_type": "markdown",
   "metadata": {},
   "source": [
    "Let <br>\n",
    "(1)\n",
    "\\begin{equation}\n",
    "A = \\begin{pmatrix}\n",
    "  13 & 12 & -2 \\\\\n",
    "  12 & 17 & 6 \\\\\n",
    "  -2 & 6 & 12 \\\\\n",
    "  \\end{pmatrix} = A^T,\\quad \n",
    "a = \\begin{pmatrix} -22 \\\\ -14.5 \\\\ 13 \\\\ \\end{pmatrix},\\quad\n",
    "b = 1. \n",
    "\\end{equation}\n",
    "\n",
    "<br> \n",
    "(2) \n",
    "\\begin{equation}\n",
    "\\text{The objective function to be minimized }f:R^3\\rightarrow R,\n",
    "f(x)=\\frac12 x^T A x + a^T x + b,\n",
    "\\end{equation}\n",
    "\n",
    "<br>\n",
    "(3)\n",
    "\\begin{equation}\n",
    "\\text{subject to} {-1}\\leq x_i\\leq 1, i=1,2,3\n",
    "\\text{ or } \\begin{pmatrix} {-1\\\\-1\\\\-1} \\end{pmatrix}\n",
    "  \\leq x\\leq \\begin{pmatrix} {1\\\\1\\\\1} \\end{pmatrix},\n",
    "  x\\in R^3.\n",
    "\\end{equation}"
   ]
  },
  {
   "cell_type": "markdown",
   "metadata": {},
   "source": [
    "Rewrite inequality constraints as \n",
    "$h_1(x)=-x+\\begin{pmatrix} -1\\\\-1\\\\-1 \\end{pmatrix}\\leq 0$\n",
    "and\n",
    "$h_2(x)=x+\\begin{pmatrix} -1\\\\-1\\\\-1 \\end{pmatrix}\\leq 0$, <br>\n",
    "Or\n",
    "$$\n",
    "x1 - 1 <= 0 \\\\\n",
    "-x1 - 1 <= 0 \\\\\n",
    "x2 - 1 <= 0 \\\\\n",
    "-x2 - 1 <= 0 \\\\\n",
    "x3 - 1 <= 0 \\\\\n",
    "-x3 - 1 <= 0 \\\\\n",
    "$$\n",
    "\n",
    "Note that\n",
    "$\\nabla_x f(x)=A x + a=\n",
    "\\begin{pmatrix}{21\\\\14.5\\\\-11}\\end{pmatrix} + \\begin{pmatrix}{-22\\\\14.5\\\\13}\\end{pmatrix} = \\begin{pmatrix}{-1\\\\0\\\\2}\\end{pmatrix}, \\\\$\n",
    "$\\nabla_x h_1(x)=\\begin{pmatrix}{-1\\\\-1\\\\-1}\\end{pmatrix}$, \n",
    "$\\nabla_x h_2(x)=\\begin{pmatrix}{1\\\\1\\\\1}\\end{pmatrix}$."
   ]
  },
  {
   "cell_type": "markdown",
   "metadata": {},
   "source": [
    "Let $\n",
    "\\Lambda_1=\\begin{pmatrix}\\lambda_1\\\\ \\lambda_2\\\\ \\lambda_3\\end{pmatrix},\n",
    "\\Lambda_2=\\begin{pmatrix}\\lambda_4\\\\ \\lambda_5\\\\ \\lambda_6\\end{pmatrix} $ be the Lagrange multipliers\n",
    "for constraints $h_1(x)$ and $h_2(x)$ respectively.\n",
    "\n",
    "Define Lagrangian <br>\n",
    "(4)\n",
    "\\begin{gather}\n",
    "L(x, \\Lambda)=f(x)+ \\Lambda_1^T h_1(x) + \\Lambda_2^T h_2(x)\n",
    "\\end{gather}"
   ]
  },
  {
   "cell_type": "markdown",
   "metadata": {},
   "source": [
    "For $x^*$ to be a local minimum, we want to show the following KKT Necessary Conditions are met. <br>\n",
    "(5)\n",
    "$$\n",
    "\\nabla_x L(x^*, \\Lambda^*) = \n",
    "\\nabla_x f(x) + (\\Lambda_1^*)^T \\nabla_x h_1(x) + (\\Lambda_2^*)^T \\nabla_x h_2(x) \\\\\n",
    "= (A x + a) + (\\Lambda_1^*)^T \\begin{pmatrix}{-1\\\\-1\\\\-1}\\end{pmatrix} + (\\Lambda_2^*)^T\\begin{pmatrix}{1\\\\1\\\\1}\\end{pmatrix} = 0\n",
    "$$\n",
    "(6)\n",
    "$$\n",
    "(\\Lambda_1^*)^T h_1(x^*) = 0 \\\\\n",
    "$$\n",
    "(7)\n",
    "$$\n",
    "(\\Lambda_2^*)^T h_2(x^*) = 0 \\\\\n",
    "$$\n",
    "(8)\n",
    "$$\n",
    "\\Lambda_1^* \\geq 0 \\\\\n",
    "$$\n",
    "(9)\n",
    "$$\n",
    "\\Lambda_2^* \\geq 0 \\\\\n",
    "$$\n",
    "$$\n",
    "d^T \\nabla_{xx}^2 L(x^*, \\lambda^*) d > 0 \\\\\n",
    "$$"
   ]
  },
  {
   "cell_type": "markdown",
   "metadata": {},
   "source": [
    "Plugging in $x^* = \\begin{pmatrix}{1 \\\\ 0.5 \\\\ -1}\\end{pmatrix}$, we checked the KKT necessary conditions.<br>\n",
    "(5a)\n",
    "$$\n",
    "\\nabla_{x} L(x^*, \\Lambda^*) = \n",
    "\\begin{pmatrix}{-1\\\\0\\\\2}\\end{pmatrix}\n",
    "  +\\begin{pmatrix}{-\\lambda_1\\\\-\\lambda_2\\\\-\\lambda_3}\\end{pmatrix}\n",
    "  +\\begin{pmatrix}{\\lambda_4\\\\ \\lambda_5\\\\ \\lambda_6}\\end{pmatrix} =0 \\\\\n",
    "$$\n",
    "(6a)\n",
    "$$\n",
    "\\begin{pmatrix}{\\lambda_1, \\lambda_2, \\lambda_3}\\end{pmatrix} \\begin{pmatrix}{-2\\\\-1.5\\\\0}\\end{pmatrix} = 0\n",
    "\\implies \\lambda_1=\\lambda_2=0 \\\\\n",
    "$$\n",
    "(7a)\n",
    "$$\n",
    "\\begin{pmatrix}{\\lambda_4, \\lambda_5, \\lambda_6}\\end{pmatrix} \\begin{pmatrix}{0\\\\-0.5\\\\-2}\\end{pmatrix} = 0\n",
    "\\implies \\lambda_5=\\lambda_6=0 \\\\\n",
    "\\Lambda_1^* h_1(x^*) = 0 \\\\\n",
    "\\Lambda_2^* h_2(x^*) = 0 \\\\\n",
    "\\Lambda_1^* \\geq 0 \\\\\n",
    "\\Lambda_2^* \\geq 0 \\\\\n",
    "$$\n",
    "The complementary slackness condition forces\n",
    "$\\lambda_1,\\lambda_2,\\lambda_5,\\lambda_6$ to be zero as\n",
    "$h_1(x_1), h_1(x_2), h_2(x_2), h_2(x_3) \\leq 0$ are not active under the optimum solution. \n",
    "\n",
    "Back-substitution into the first order equation (5a) yields $\\lambda_4=1$ and \n",
    "$\\lambda_3=-2$. All the $\\lambda$'s satisfy conditions (8)\n",
    "and (9)"
   ]
  },
  {
   "cell_type": "markdown",
   "metadata": {},
   "source": [
    "As all the leading principal minor of $A$ is positive, the second order condition is met. "
   ]
  },
  {
   "cell_type": "code",
   "execution_count": null,
   "metadata": {
    "collapsed": true
   },
   "outputs": [],
   "source": []
  }
 ],
 "metadata": {
  "kernelspec": {
   "display_name": "Python 3",
   "language": "python",
   "name": "python3"
  },
  "language_info": {
   "codemirror_mode": {
    "name": "ipython",
    "version": 3
   },
   "file_extension": ".py",
   "mimetype": "text/x-python",
   "name": "python",
   "nbconvert_exporter": "python",
   "pygments_lexer": "ipython3",
   "version": "3.7.0"
  }
 },
 "nbformat": 4,
 "nbformat_minor": 2
}
