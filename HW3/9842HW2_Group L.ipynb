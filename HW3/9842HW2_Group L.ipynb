{
 "cells": [
  {
   "cell_type": "markdown",
   "metadata": {},
   "source": [
    "### Question 2"
   ]
  },
  {
   "cell_type": "markdown",
   "metadata": {},
   "source": [
    "$ A = $\n",
    "$\\begin{pmatrix}\n",
    "13 & 12 & -2 \\\\\n",
    "12 & 17 & 6 \\\\\n",
    "-2 & 6 & 12 \\\\\n",
    "\\end{pmatrix}$\n",
    "$ = A^T $\n",
    "\n",
    "a =\n",
    "$\\begin{pmatrix}\n",
    "-22 \\\\\n",
    "14.5 \\\\\n",
    "13 \\\\\n",
    "\\end{pmatrix}$\n",
    "\n",
    "b = 1"
   ]
  },
  {
   "cell_type": "markdown",
   "metadata": {},
   "source": [
    "$$\n",
    "x1 - 1 <= 0 \\\\\n",
    "-x1 - 1 <= 0 \\\\\n",
    "x2 - 1 <= 0 \\\\\n",
    "-x2 - 1 <= 0 \\\\\n",
    "x3 - 1 <= 0 \\\\\n",
    "-x3 - 1 <= 0 \\\\\n",
    "$$"
   ]
  },
  {
   "cell_type": "markdown",
   "metadata": {},
   "source": [
    "$$\n",
    "L = \\frac12 x^T A x + a^T x + b + \\lambda_1 (x1-1) + \\lambda_2 (-x1-1) + \\lambda_3 (x2-1) + \\lambda_4 (-x2-1) + \\lambda_5 (x3-1) + \\lambda_6 (-x3-1)\n",
    "$$"
   ]
  },
  {
   "cell_type": "markdown",
   "metadata": {},
   "source": [
    "Given $x^* = $\n",
    "$\\begin{pmatrix}\n",
    "1 \\\\\n",
    "0.5 \\\\\n",
    "-1 \\\\\n",
    "\\end{pmatrix}$ \n",
    "and $\\lambda = $\n",
    "$\\begin{pmatrix}\n",
    "\\lambda_1 - \\lambda_2 \\\\\n",
    "\\lambda_3 - \\lambda_4 \\\\\n",
    "\\lambda_5 - \\lambda_6 \\\\\n",
    "\\end{pmatrix}$ \n",
    "\n",
    "To prove the solution is optimal, we check the KKT necessary conditions."
   ]
  },
  {
   "cell_type": "markdown",
   "metadata": {},
   "source": [
    "$$\n",
    "\\nabla_x L(x^*, \\lambda^*) = 0 \\\\\n",
    "\\lambda_i^* c_i(x^*) = 0 \\\\\n",
    "\\lambda_i^* >= 0 \\\\\n",
    "d^T \\nabla_{xx}^2 L(x^*, \\lambda^*) d > 0 \\\\\n",
    "$$"
   ]
  },
  {
   "cell_type": "markdown",
   "metadata": {},
   "source": [
    "For the first order condition, we have\n",
    "$$\n",
    "x^T A + a^T + \\lambda^T = 0 \\\\\n",
    "$$\n",
    "From the constraints and the given solution, we have\n",
    "$$\n",
    "\\lambda_2 = \\lambda_3 = \\lambda_4 = \\lambda_5 = 0 \\\\\n",
    "\\lambda_1 = 1 \\\\\n",
    "\\lambda_6 = 2\n",
    "$$"
   ]
  },
  {
   "cell_type": "markdown",
   "metadata": {},
   "source": [
    "As all the leading principal minor of $A$ is positive, the second order condition is met. "
   ]
  },
  {
   "cell_type": "markdown",
   "metadata": {
    "collapsed": true
   },
   "source": [
    "### Question 1"
   ]
  },
  {
   "cell_type": "markdown",
   "metadata": {},
   "source": [
    "#### (i) Prove log-concave"
   ]
  },
  {
   "cell_type": "markdown",
   "metadata": {},
   "source": [
    "a. Normal\n",
    "$$\n",
    "f(x) = \\frac{1}{\\sqrt{2 \\pi \\sigma^2}} e^{-\\frac{(x-\\mu)^2}{2 \\sigma^2}} \\\\\n",
    "$$\n",
    "\n",
    "The distribution density is always equal to or greater than zero.\n",
    "\n",
    "$$\n",
    "\\log[f(x)] = {-\\frac{(x-\\mu)^2}{2 \\sigma^2}} + \\log(\\frac{1}{\\sqrt{2 \\pi \\sigma^2}}) \\\\\n",
    "$$\n",
    "\n",
    "Assume two different numbers y1 and y2, we have \n",
    "$$\n",
    "\\log[f(\\alpha y1 + (1-\\alpha) y2)] = {-\\frac{(\\alpha y1 + (1-\\alpha) y2-\\mu)^2}{2 \\sigma^2}} + \\log(\\frac{1}{\\sqrt{2 \\pi \\sigma^2}}) \\\\\n",
    "\\alpha \\log[f(y1)] = {-\\frac{\\alpha(y1-\\mu)^2}{2 \\sigma^2}} + \\alpha \\log(\\frac{1}{\\sqrt{2 \\pi \\sigma^2}}) \\\\\n",
    "(1-\\alpha)\\log[f(y2)] = {-\\frac{(1-\\alpha)(y2-\\mu)^2}{2 \\sigma^2}} + (1-\\alpha) \\log(\\frac{1}{\\sqrt{2 \\pi \\sigma^2}}) \\\\\n",
    "$$\n",
    "\n",
    "Then\n",
    "$$\n",
    "2\\sigma^2 \\left[\\alpha \\log[f(y1)]+(1-\\alpha)\\log[f(y2)]-\\log[f(\\alpha y1 + (1-\\alpha) y2)]\\right] \\\\\n",
    "= -\\alpha y1^2 - (1-\\alpha)y2^2 + [(\\alpha y1 + (1-\\alpha) y2]^2 \\\\\n",
    "= -(1-\\alpha)\\alpha (y1^2+y2^2-y1y2) \\\\\n",
    "= -(1-\\alpha)\\alpha [(y1-\\frac{y2}{2})^2 + \\frac34 {y2}^2] \\\\\n",
    "<= 0 \\\\\n",
    "$$"
   ]
  },
  {
   "cell_type": "markdown",
   "metadata": {},
   "source": [
    "Therefore the normal density is log-concave."
   ]
  },
  {
   "cell_type": "markdown",
   "metadata": {},
   "source": [
    "b. multinormal\n",
    "$$\n",
    "f(x) = \\frac{1}{(2\\pi)^{p/2}|\\Sigma|^{1/2}} e^{-\\frac12 (x-\\mu)^T \\Sigma^{-1} (x-\\mu)}\n",
    "$$\n",
    "\n",
    "The distribution density is always equal to or greater than zero."
   ]
  },
  {
   "cell_type": "markdown",
   "metadata": {},
   "source": [
    "Following the same method for normal distribution. we have, \n",
    "$$\n",
    "\\log[f(x)] = {-\\frac12 (x-\\mu)^T \\Sigma^{-1} (x-\\mu)} + \\log(\\frac{1}{(2\\pi)^{p/2}|\\Sigma|^{1/2}}) \\\\\n",
    "$$"
   ]
  },
  {
   "cell_type": "markdown",
   "metadata": {},
   "source": [
    "Also assume two different multi-dimensional vectors y1 and y2, where $\\alpha$ is a scalar, we have \n",
    "$$\n",
    "\\log[f(\\alpha y1 + (1-\\alpha) y2)] = {-\\frac12 (\\alpha y1 + (1-\\alpha) y2-\\mu)^T \\Sigma^{-1} (\\alpha y1 + (1-\\alpha) y2-\\mu)} + \\log(\\frac{1}{(2\\pi)^{p/2}|\\Sigma|^{1/2}}) \\\\\n",
    "\\alpha \\log[f(y1)] = {-\\frac{\\alpha}{2} (y1-\\mu)^T \\Sigma^{-1} (y1-\\mu)} + \\alpha \\log(\\frac{1}{(2\\pi)^{p/2}|\\Sigma|^{1/2}}) \\\\\n",
    "(1-\\alpha) \\log[f(y2)] = {-\\frac{(1-\\alpha)}{2} (y2-\\mu)^T \\Sigma^{-1} (y2-\\mu)} + (1-\\alpha) \\log(\\frac{1}{(2\\pi)^{p/2}|\\Sigma|^{1/2}}) \\\\\n",
    "$$"
   ]
  },
  {
   "cell_type": "markdown",
   "metadata": {},
   "source": [
    "Then\n",
    "$$\n",
    "\\log[f(\\alpha y1 + (1-\\alpha) y2)] - \\alpha \\log[f(y1)]- (1-\\alpha) \\log[f(y2)] \\\\\n",
    "= -\\frac12(\\alpha y1^T)\\Sigma^{-1}(\\alpha y1) + \\frac12(\\alpha y1^T)\\Sigma^{-1}(y1) -\\frac12((1-\\alpha) y2^T)\\Sigma^{-1}[(1-\\alpha) y2] + \\frac12[(1-\\alpha) y2^T]\\Sigma^{-1}(y2) - (\\alpha y1^T)\\Sigma^{-1}[(1-\\alpha) y2] \\\\\n",
    "= \\frac{\\alpha-\\alpha^2}{2}(y1^T)\\Sigma^{-1}(y1) + \\frac{(1-\\alpha) - (1-\\alpha)^2}{2}(y2^T)\\Sigma^{-1}(y2) - \\alpha(1-\\alpha)(y1^T)\\Sigma^{-1}(y2) \\\\\n",
    "= \\frac{\\alpha(1-\\alpha)}{2}(y2^T)\\Sigma^{-1}(y2) + \\frac{\\alpha(1-\\alpha)}{2}(y1^T)\\Sigma^{-1}(y1) - \\alpha(1-\\alpha)(y1^T)\\Sigma^{-1}(y2) \\\\\n",
    "= \\frac{\\alpha(1-\\alpha)}{2}[(y2^T)\\Sigma^{-1}(y2) - 2(y1^T)\\Sigma^{-1}(y2) + (y1^T)\\Sigma^{-1}(y1)] \\\\ >= 0\n",
    "$$"
   ]
  },
  {
   "cell_type": "markdown",
   "metadata": {},
   "source": [
    "Therefore the multinormal density is also log-concave."
   ]
  },
  {
   "cell_type": "markdown",
   "metadata": {},
   "source": [
    "#### c. exponential\n",
    "\n",
    "When x>= 0 \n",
    "$$\n",
    "f(x) = \\lambda e^{-\\lambda x} \\\\\n",
    "$$\n",
    "The distribution density is always equal to or greater than zero."
   ]
  },
  {
   "cell_type": "markdown",
   "metadata": {},
   "source": [
    "$$\n",
    "\\log [f(x)] = -\\lambda x + \\log(\\lambda) \\\\\n",
    "$$"
   ]
  },
  {
   "cell_type": "markdown",
   "metadata": {},
   "source": [
    "Assume two different numbers y1 and y2, we have \n",
    "$$\n",
    "\\log[f(\\alpha y1 + (1-\\alpha) y2)] = -\\lambda (\\alpha y1 + (1-\\alpha) y2) + \\log(\\lambda) \\\\\n",
    "\\alpha \\log[f(y1)] = -\\alpha \\lambda (y1) + \\alpha \\log(\\lambda) \\\\\n",
    "(1-\\alpha) \\log[f(y2)] = -(1-\\alpha) \\lambda (y2) + (1-\\alpha) \\log(\\lambda) \\\\\n",
    "$$"
   ]
  },
  {
   "cell_type": "markdown",
   "metadata": {},
   "source": [
    "Then \n",
    "$$\n",
    "\\log[f(\\alpha y1 + (1-\\alpha) y2)] - \\alpha \\log[f(y1)] - (1-\\alpha)\\log[f(y2)] \\\\\n",
    "= -\\lambda (\\alpha y1 + (1-\\alpha) y2) + \\alpha \\lambda (y1) + (1-\\alpha) \\lambda (y2) \\\\\n",
    "= 0 \\\\\n",
    ">= 0 \n",
    "$$"
   ]
  },
  {
   "cell_type": "markdown",
   "metadata": {},
   "source": [
    "Therefore the exponential density is log-concave. "
   ]
  },
  {
   "cell_type": "markdown",
   "metadata": {},
   "source": [
    "#### d. logistic\n",
    "$$\n",
    "f(x) = \\frac{e^{-(x-\\mu)/s}}{s(1+e^{-(x-\\mu)/s})^2} \\\\\n",
    "$$\n",
    "The distribution density is always equal to or greater than zero."
   ]
  },
  {
   "cell_type": "markdown",
   "metadata": {},
   "source": [
    "$$\n",
    "\\log [f(x)] = -(x-\\mu)/s - \\log(s) - 2\\log(1+e^{-(x-\\mu)/s}) \\\\\n",
    "$$"
   ]
  },
  {
   "cell_type": "markdown",
   "metadata": {},
   "source": [
    "Take the second derivative to this log function, we have\n",
    "$$\n",
    "\\log [f(x)]'' = \\frac{2}{s^2} \\frac{e^{-(x-\\mu)/s}}{(1+e^{-(x-\\mu)/s})^2} - \\frac{2}{s^2} \\frac{e^{-(x-\\mu)/s}}{(1+e^{-(x-\\mu)/s})} <= 0\n",
    "$$"
   ]
  },
  {
   "cell_type": "markdown",
   "metadata": {},
   "source": [
    "Therefore the logistic density is log-concave."
   ]
  },
  {
   "cell_type": "markdown",
   "metadata": {},
   "source": [
    "#### (2) Kullback-Leibler distance"
   ]
  },
  {
   "cell_type": "markdown",
   "metadata": {},
   "source": [
    "By definition, we have\n",
    "$$\n",
    "KL = \\sum{p_i \\log{\\frac{p_i}{q_i(\\theta)}}} \\\\\n",
    "$$\n",
    "and $q_i(\\theta)$ is a log-concave function.\n",
    "\n",
    "For each component i, we have\n",
    "$$\n",
    "KL_i = p_i \\log{p_i} - p_i \\log{q_i(\\theta)} \\\\ \n",
    "$$\n",
    "\n",
    "Assume two different parameters $\\theta_1$ and $\\theta_2$, we have\n",
    "$$\n",
    "KL_i|_{\\alpha \\theta_1 + (1-\\alpha) \\theta2} = p_i \\log{p_i} - p_i \\log{q_i[\\alpha \\theta_1 + (1-\\alpha) \\theta2]} \\\\ \n",
    "\\alpha KL_i|_{\\theta_1} = \\alpha p_i \\log{p_i} - \\alpha p_i \\log{q_i(\\theta_1)} \\\\ \n",
    "(1-\\alpha) KL_i|_{\\theta2} = (1-\\alpha) p_i \\log{p_i} - (1-\\alpha) p_i \\log{q_i(\\theta2)} \\\\ \n",
    "$$\n",
    "\n",
    "Then\n",
    "$$\n",
    "\\alpha KL_i|_{\\theta_1} + (1-\\alpha) KL_i|_{\\theta2} - KL_i|_{\\alpha \\theta_1 + (1-\\alpha) \\theta2} \\\\\n",
    "= - \\alpha p_i \\log{q_i(\\theta_1)} - (1-\\alpha) p_i \\log{q_i(\\theta_2)} + p_i \\log{q_i[\\alpha \\theta_1 + (1-\\alpha) \\theta_2]} \\\\\n",
    "= p_i [ \\log{q_i(\\alpha \\theta_1 + (1-\\alpha) \\theta_2)} - \\alpha \\log{q_i(\\theta_1)} - (1-\\alpha) \\log{q_i(\\theta_2)}] \\\\\n",
    "$$\n",
    "Given $q_i(\\theta)$ is a log-concave function, we have \n",
    "$$\n",
    "\\log{q_i(\\alpha \\theta_1 + (1-\\alpha) \\theta_2)} - \\alpha \\log{q_i(\\theta_1)} - (1-\\alpha) \\log{q_i(\\theta_2)} >= 0\n",
    "$$\n",
    "Therefore, \n",
    "$$\n",
    "\\alpha KL_i|_{\\theta_1} + (1-\\alpha) KL_i|_{\\theta2} - KL_i|_{\\alpha \\theta_1 + (1-\\alpha) \\theta2} >= 0\n",
    "$$\n",
    "which means each KL term/component is convex. Consequently, the sum of the convex fucntions is also convex. \n"
   ]
  },
  {
   "cell_type": "code",
   "execution_count": null,
   "metadata": {
    "collapsed": true
   },
   "outputs": [],
   "source": []
  }
 ],
 "metadata": {
  "kernelspec": {
   "display_name": "Python 3",
   "language": "python",
   "name": "python3"
  },
  "language_info": {
   "codemirror_mode": {
    "name": "ipython",
    "version": 3
   },
   "file_extension": ".py",
   "mimetype": "text/x-python",
   "name": "python",
   "nbconvert_exporter": "python",
   "pygments_lexer": "ipython3",
   "version": "3.6.6"
  }
 },
 "nbformat": 4,
 "nbformat_minor": 2
}
