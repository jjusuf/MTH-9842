{
 "cells": [
  {
   "cell_type": "markdown",
   "metadata": {},
   "source": [
    "# MTH9842 HW4\n",
    "## Group L\n",
    "## Yang Li, Jimmy Jusuf, Zhirong Zhang, Tiangang Zhang\n",
    "## December 19, 2018"
   ]
  },
  {
   "cell_type": "markdown",
   "metadata": {},
   "source": [
    "# Question.1"
   ]
  },
  {
   "cell_type": "markdown",
   "metadata": {},
   "source": [
    "Let $\\displaystyle{f(\\mathbf{x})={-\\!}\\sum_{i=1}^n \\log x_i}$ be the objective function, $\\mathbf{x}\\in \\mathbb{R}^n$.\n",
    "\n",
    "## (i)\n",
    "We want to solve\n",
    "$$\n",
    "\\min\\ f(\\mathbf{x}), \\text{ subject to a single equality constraint } h(\\mathbf{x})=\\sum_{i=1}^n x_i -1 = 0\n",
    "$$\n",
    "\n",
    "Define Lagrange function\n",
    "\n",
    "$$\n",
    "L(\\mathbf{x},\\lambda) = f(\\mathbf{x}) + \\lambda\\, h(\\mathbf{x})\n",
    "$$\n",
    "\n",
    "Any optimal points $\\mathbf{x}^*$ must satisfy KKT conditions:\n",
    "\\begin{align}\n",
    "\\nabla L_x = \\nabla f(\\mathbf{x}^*) + \\lambda \\nabla h(\\mathbf{x}^*) = 0 \\\\\n",
    "h(\\mathbf{x}^*) = 0 \\\\\n",
    "\\lambda\\geq 0 \\\\\n",
    "\\end{align}\n",
    "We conclude\n",
    "$$\n",
    "\\frac{\\partial L}{\\partial x_i} = 0 \n",
    "  \\Rightarrow -\\frac{1}{x_i} + \\lambda = 0 \n",
    "  \\Rightarrow x_i = \\frac 1\\lambda\n",
    "$$\n",
    "$$\n",
    "h(\\mathbf{x})=0 \\Rightarrow \\sum_{i=1}^n x_i = 1 \n",
    "  \\Rightarrow \\sum_{i=1}^n \\frac1\\lambda = 1\n",
    "  \\Rightarrow n\\frac1\\lambda = 1 \n",
    "  \\Rightarrow \\lambda = n\n",
    "  \\Rightarrow x_i = \\frac 1n\n",
    "$$"
   ]
  },
  {
   "cell_type": "markdown",
   "metadata": {},
   "source": [
    "## (ii)\n",
    "Given an optimization problem\n",
    "$$\n",
    "\\begin{array}{ll}\n",
    "  \\text{minimize } & f(\\mathbf{x})={-\\!}\\sum_{i=1}^n \\log x_i \\\\\n",
    "  \\text{subject to } & \\mathbf{Ax}-\\mathbf{b}=0\n",
    "\\end{array}\n",
    "$$\n",
    "Similar to (i), define Lagrange function\n",
    "$$\n",
    "L(\\mathbf{x},\\boldsymbol\\lambda) = f(\\mathbf{x}) + (\\mathbf{Ax} - \\mathbf{b})^T\\boldsymbol\\lambda,\n",
    "  \\quad \\mathbf{A}\\in \\mathbb{R}^{p\\times n}, \n",
    "  \\mathbf{b}\\in\\mathbb{R}^p, \n",
    "  \\boldsymbol\\lambda\\in\\mathbb{R}^p\n",
    "$$\n",
    "\n",
    "The Lagrange dual function is\n",
    "$$\n",
    "q(\\boldsymbol\\lambda) = \\inf_{\\mathbf{x}\\in\\mathcal{D}}L(\\mathbf{x},\\boldsymbol\\lambda)\n",
    "$$\n",
    "\n",
    "Holding $\\boldsymbol\\lambda$ fixed, this is a convex function of $x$. The infimum with respect \n",
    "to $x$ is achieved when $\\displaystyle{\\frac{\\partial L}{\\partial x_i}}$ are zero.\n",
    "\n",
    "Here, $A_{ji}$ is the $j$-th row, $i$-th col element in $\\mathbf{A}$, $i\\in 1\\ldots n$\n",
    "$$\n",
    "\\frac{\\partial L}{\\partial x_i} = 0 \n",
    "  \\Rightarrow  -\\frac{1}{x_i} + \\lambda_j\\sum_{j=1}^p A_{ji} = 0\n",
    "  \\Rightarrow x_i = \\frac{1}{\\lambda\\sum_{j=1}^p A_{ji}} = \\frac{1}{(\\mathbf{A}^{\\!T}\\boldsymbol\\lambda)_i}\n",
    "$$\n",
    "\n",
    "Also we have,\n",
    "$$\\mathbf{Ax} = \n",
    "A\\left(\\begin{array}{c}\\frac{1}{\\lambda \\sum_j A_{j1}}\\\\\n",
    "\\vdots\\\\\n",
    "\\frac{1}{\\lambda \\sum_j A_{jn}}\\\\\n",
    "\\end{array}\\right) = \n",
    "\\left(\n",
    "\\begin{array}{c}\\sum_i\\frac{ A_{1i}}{\\lambda \\sum_j A_{ji}}\\\\\n",
    "\\vdots\\\\\n",
    "\\sum_i\\frac{ A_{ni}}{\\lambda \\sum_j A_{ji}}\\\\\n",
    "\\end{array}\\right)\n",
    "$$\n",
    "Thus we have\n",
    "$$\n",
    "\\mathbf{x}^T\\mathbf{A}^{\\!T}\\boldsymbol\\lambda = \\left(\n",
    "\\begin{array}{c}\\sum_i\\frac{ A_{1i}}{\\lambda \\sum_j A_{ji}}&\n",
    "\\cdots&\n",
    "\\sum_i\\frac{ A_{ni}}{\\lambda \\sum_j A_{ji}}\\\\\n",
    "\\end{array}\\right)\n",
    "\\left(\\begin{array}{cc}\\lambda\\\\ \n",
    "\\vdots\\\\\n",
    "\\lambda \\end{array}\\right) = n\n",
    "$$\n",
    "Substituting into $q(\\boldsymbol\\lambda)$\n",
    "$$\n",
    "q(\\boldsymbol\\lambda) = \\inf_{\\mathbf{x}\\in\\mathcal{D}}L(\\mathbf{x},\\boldsymbol\\lambda) = \n",
    "  \\inf_{\\mathbf{x}\\in\\mathcal{D}}\\left( -\\!\\sum_{i=1}^n \\log x_i + (\\mathbf{Ax} - \\mathbf{b})^T\\boldsymbol\\lambda\\right) =\n",
    "  -\\mathbf{b}^T\\boldsymbol\\lambda - \\sum_{i = 1}^{n} \\log\\frac1{(\\mathbf{A}^{\\!T}\\boldsymbol\\lambda)_i} + n\n",
    "$$\n",
    "i.e. the dual problem is\n",
    "$$\n",
    "\\text{maximize}\\quad q(\\boldsymbol\\lambda) = -\\mathbf{b}^T\\boldsymbol\\lambda +\\sum_{i = 1}^{n} \n",
    "  \\log {(\\mathbf{A}^{\\!T}\\boldsymbol\\lambda)_i} + n\n",
    "$$"
   ]
  },
  {
   "cell_type": "markdown",
   "metadata": {},
   "source": [
    "## (iii)\n",
    "Already solved in (ii)"
   ]
  },
  {
   "cell_type": "markdown",
   "metadata": {},
   "source": [
    "## (iv)\n",
    "By Newton's method, we need to calculate the matrix equation\n",
    "$$\n",
    "\\begin{bmatrix}\n",
    "\\nabla^2 f &A^T\\\\\n",
    "A& 0\n",
    "\\end{bmatrix}\n",
    "\\begin{bmatrix}\n",
    "-\\Delta x\\\\\n",
    "\\lambda\n",
    "\\end{bmatrix}\n",
    "=\n",
    "\\begin{bmatrix}\n",
    "-\\nabla f(x)\\\\\n",
    "0\n",
    "\\end{bmatrix}\n",
    "$$\n",
    "It's easy to see that \n",
    "\n",
    "$$\n",
    "\\nabla f = (-\\frac{1}{x_1},\\cdots, -\\frac{1}{x_n})^T\n",
    "$$\n",
    "\n",
    "$$\n",
    "\\nabla^2 f = \\operatorname{diag}(\\frac{1}{x_1^2},\\cdots, \\frac{1}{x_n^2})\n",
    "$$"
   ]
  },
  {
   "cell_type": "markdown",
   "metadata": {},
   "source": [
    "## (v)\n",
    "To solve the dual problem, we use the following formula for gradient and hessian of\n",
    "$q(\\boldsymbol\\lambda)$.\n",
    "\n",
    "$$\n",
    "\\nabla_{\\!\\lambda}\\,q=-\\mathbf{b}+\\mathbf{A}y \\text{ where }\n",
    "  y=(1/(\\mathbf{A}^{\\!T}\\boldsymbol\\lambda)_1,\\ldots,\n",
    "  1/(\\mathbf{A}^{\\!T}\\boldsymbol\\lambda)_n) \\\\\n",
    "\\nabla^2_{\\!\\lambda}\\,q=-\\mathbf{ADA}^{\\!T}, \\quad D \\text{ is diagonal, with }\n",
    "  D_{ii}=(\\mathbf{A}^{\\!T}\\boldsymbol\\lambda)_i^{-2}\n",
    "$$"
   ]
  },
  {
   "cell_type": "code",
   "execution_count": 1,
   "metadata": {},
   "outputs": [],
   "source": [
    "import numpy as np\n",
    "import pandas as pd\n",
    "\n",
    "%matplotlib inline\n",
    "import matplotlib.pyplot as plt\n",
    "\n",
    "from numpy.linalg import inv\n",
    "\n",
    "# global variables to keep track of search history\n",
    "x_hist = []\n",
    "fx_hist = []  # objective function value\n",
    "dfx_hist = []  # derivative of objective function / gradient vector at x\n",
    "hfx_hist = []  # second derivative of objective function / hessian matrix at x\n",
    "dx_hist = []  # Newton step / search direction\n",
    "epsilon_hist = []"
   ]
  },
  {
   "cell_type": "code",
   "execution_count": 2,
   "metadata": {},
   "outputs": [],
   "source": [
    "def vect(a):\n",
    "    # turn input into a column vector, i.e. a.shape=(numrow,1)\n",
    "    if isvect(a): return a  # do nothing if input is already a vector       \n",
    "    av=np.array(a)[:,None]\n",
    "    #print(av.shape)\n",
    "    assert av.shape==(len(a),1)\n",
    "    return av\n",
    "\n",
    "def isvect(x):\n",
    "    # check if x is a vect\n",
    "    try:\n",
    "        assert isinstance(x, np.ndarray)\n",
    "        if (x.ndim!=2): return False\n",
    "        (nr,nc) = x.shape\n",
    "        return nc==1\n",
    "    except:\n",
    "        return False\n",
    "\n",
    "def sumcol(v):\n",
    "    # input is a vector (assume column vector, but works with row vector too)\n",
    "    # return the sum of elements\n",
    "    assert isinstance(v, np.ndarray)\n",
    "    return np.sum(v)"
   ]
  },
  {
   "cell_type": "code",
   "execution_count": 3,
   "metadata": {},
   "outputs": [
    {
     "name": "stdout",
     "output_type": "stream",
     "text": [
      "True False\n"
     ]
    }
   ],
   "source": [
    "a=vect([1,2,3])\n",
    "b=np.array([4,5,6])\n",
    "print(isvect(a), isvect(b)) # output: True False"
   ]
  },
  {
   "cell_type": "code",
   "execution_count": 4,
   "metadata": {},
   "outputs": [],
   "source": [
    "# IGNORE THIS\n",
    "# Newton method for unconstrained problem\n",
    "def NewtonUnconstrainedSolver(x0, alpha, beta, tol, objfun, objfun_grad, objfun_hess):\n",
    "    assert np.isscalar(alpha) and np.isscalar(beta) and np.isscalar(tol)\n",
    "    epsilon =  100 # get the Newton decrement\n",
    "    gradtol = 1e-5\n",
    "    count = 0\n",
    "    x = x0\n",
    "    while epsilon > tol and count < 500:      \n",
    "        count = count + 1\n",
    "        funcval, gradvec, hessmat = objfun(x), objfun_grad(x), objfun_hess(x)\n",
    "        print(\"x=\", x, \"\\nf(x)=\", funcval, \"\\ngrad(f(x))\", gradvec, \"\\nhess(f(x))\", hessmat)\n",
    "        newton_step = -1*np.matmul(np.linalg.inv(hessmat), gradvec)\n",
    "        print(\"newton_step\", newton_step)\n",
    "        descmag = np.squeeze(gradvec.T.dot(newton_step)) # check descent magnitude\n",
    "        print(\"descent magnitude\", descmag)\n",
    "        # using backtracking line search\n",
    "        back_ct=0\n",
    "        t = 1\n",
    "        # while -np.log(x + t * dx).sum() >= -np.log(x).sum() - alpha * t * dfx.T.dot(dx):\n",
    "        while True:\n",
    "            new_x = x+t*newton_step\n",
    "            print(\"new_x\", new_x)\n",
    "            new_funcval = objfun(new_x)\n",
    "            print(new_funcval, alpha, t, descmag)\n",
    "            if new_funcval < (funcval-alpha*t*descmag): break\n",
    "            t = t * beta\n",
    "            back_ct+=1\n",
    "            if back_ct>50: break\n",
    "        if (abs(descmag)<gradtol): break\n",
    "        # update the parameters\n",
    "        last_x=x\n",
    "        x = new_x\n",
    "        fnew, gradvec, hessmat = new_funcval, objfun_grad(x), objfun_hess(x)\n",
    "        # epsilon =  2*np.sqrt(-np.log(last_x).sum()+np.log(x).sum())\n",
    "        epsilon =  2*np.sqrt(objfun(last_x)-objfun(x))\n",
    "    return x,epsilon,count"
   ]
  },
  {
   "cell_type": "code",
   "execution_count": 5,
   "metadata": {},
   "outputs": [],
   "source": [
    "# IGNORE THIS\n",
    "# class\n",
    "class NewtonSolver:\n",
    "    # Class attribute\n",
    "    objfunc_val = 0;\n",
    "    gradvec = 0;\n",
    "    hess = 0;\n",
    "\n",
    "    # Initializer / Instance attributes\n",
    "    def __init__(self):\n",
    "        None\n",
    "\n",
    "    # instance method\n",
    "    def objfunc(self, x):\n",
    "        return \"{} is {} years old\".format(self.name, self.age)\n",
    "\n",
    "    def grad(self, x):\n",
    "        return \"{} says {}\".format(self.name, sound)"
   ]
  },
  {
   "cell_type": "code",
   "execution_count": 6,
   "metadata": {},
   "outputs": [],
   "source": [
    "# IGNORE THIS\n",
    "# dual function optimizer\n",
    "def nmdual(x0, A, b, alpha, beta, tol):\n",
    "    def func(x):\n",
    "        # implement the dual function\n",
    "        (nr,nc) = A.shape\n",
    "        atl=np.matmul(A.T,x)\n",
    "        sumlog = sumcol(np.log(x))\n",
    "        return -1*(-np.dot(b.T,x)+sumlog+nc)\n",
    "    def grad(x):\n",
    "        # return the gradient of objective function\n",
    "        g=np.matmul(A, inv(np.matmul(A.T,x)))\n",
    "        return -1*(vect(-b)+g)\n",
    "    def hess(x):\n",
    "        # return the hessian of the objective function\n",
    "        atl=np.matmul(A.T,x)\n",
    "        atlinv=inv(atl)\n",
    "        Dii=np.diag(atlinv**2)\n",
    "        D=np.diag(np.matmul(A.T,x))\n",
    "        return -1*((-A @ D) @ A.T)\n",
    "    # compute A' lambda\n",
    "    #atl=np.matmul(A.T,x0)\n",
    "    #atlinv=inv(atl)\n",
    "    #Dii=np.diag(atlinv**2)\n",
    "    return NewtonUnconstrainedSolver(x0, alpha, beta, tol, func, grad, hess)"
   ]
  },
  {
   "cell_type": "code",
   "execution_count": 7,
   "metadata": {},
   "outputs": [],
   "source": [
    "# IGNORE THIS\n",
    "# test code for Newton unconstrained optimization problem\n",
    "def nmprimal(x0, alpha, beta, tol):\n",
    "    def func(x):\n",
    "        # implement objective function f(x) = -sum(log(x_i))\n",
    "        return sumcol(-np.log(x))\n",
    "    def grad(x):\n",
    "        # evaluate the gradient of objective function at point x\n",
    "        return vect(-1/x)\n",
    "    def hess(x):\n",
    "        # evaluate the hessian of the objective function at point x\n",
    "        return np.diagflat(1/x**2)\n",
    "    return NewtonUnconstrainedSolver(x0, alpha, beta, tol, func, grad, hess)"
   ]
  },
  {
   "cell_type": "code",
   "execution_count": 8,
   "metadata": {},
   "outputs": [],
   "source": [
    "alpha = 0.1\n",
    "beta = 0.5\n",
    "tol = 0.0001\n",
    "x0=vect([0.1,0.4,0.3])\n",
    "A=np.hstack((vect([1,1,1]),vect([2,2,2]),vect([3,3,3])))\n",
    "b=vect([1,1,1])\n",
    "#nmdual(x0,alpha,beta,tol)"
   ]
  },
  {
   "cell_type": "code",
   "execution_count": 9,
   "metadata": {},
   "outputs": [],
   "source": [
    "def NewtonMethod(A, x0, alpha, beta, tol):\n",
    "    \"\"\"\n",
    "    Implement Newton's method optimization with equality constraints.\n",
    "    Input:\n",
    "      A is the coefficient of the matrix that represents equality constraint (Ax-b)=0\n",
    "      alpha, beta are parameters for backtracking line search\n",
    "      tol, the algorithm terminates if |f(x)-f(last_x)| < tol\n",
    "      Function f(), f_grad(), f_hess() represent the objective function to be minimized,\n",
    "        the gradient and the hessian\n",
    "    Output:\n",
    "      x where the minimum is found\n",
    "      epsilon the value of |f(x)-f(last_x)| from the final iteration\n",
    "      count, the number of iterations\n",
    "    \"\"\"\n",
    "    def f(x):\n",
    "        # evaluate objective function at x\n",
    "        return -np.log(x).sum()\n",
    "    def f_grad(x):\n",
    "        # return the gradient vector at f(x)\n",
    "        return -1 / x\n",
    "    def f_hess(x):\n",
    "        # return the hessian matrix at f(x)\n",
    "        return np.diag(1/x**2)\n",
    "    (row, col) = A.shape\n",
    "    x = x0\n",
    "    H = f_hess(x) # H is hessian of f(x)\n",
    "    upper = np.column_stack((H, A.T)) # [Hessian, A^T]\n",
    "    lower = np.column_stack((A, np.zeros((row, row)))) # [A, 0]\n",
    "    KKT = np.row_stack((upper, lower)) # this the the matrix on the left\n",
    "    dfx = f_grad(x) # this is - nabla f(x)\n",
    "    RHS = np.append(dfx, np.zeros(row)) # right hand side\n",
    "    epsilon =  100 # get the Newton decrement\n",
    "    count = 0\n",
    "    # clear search history\n",
    "    x_hist.clear()\n",
    "    fx_hist.clear()  # objective function value\n",
    "    dfx_hist.clear()  # derivative of objective function / gradient vector at x\n",
    "    hfx_hist.clear()  # second derivative of objective function / hessian matrix at x\n",
    "    dx_hist.clear()  # Newton step / search direction\n",
    "    epsilon_hist.clear()\n",
    "    while epsilon > tol and count < 500:\n",
    "        \n",
    "        count = count + 1\n",
    "        # save the search paths\n",
    "        x_hist.append(x)\n",
    "        fx_hist.append(f(x))\n",
    "        dfx_hist.append(dfx)\n",
    "        hfx_hist.append(H)\n",
    "        \n",
    "        LHS = np.squeeze(np.array(inv(KKT).dot(RHS)))\n",
    "        dx = -np.array(LHS)[:col]; dx_hist.append(dx)\n",
    "        t = 1\n",
    "        # using backtracking line search\n",
    "        back_ct=0\n",
    "        fval = f(x)\n",
    "        print(fval)\n",
    "        while f(x + t * dx) >= fval - alpha * t * dfx.T.dot(dx):\n",
    "            t = t * beta\n",
    "            back_ct+=1\n",
    "            if back_ct>50:\n",
    "                break\n",
    "        # update the parameters\n",
    "        last_x=x\n",
    "        x = x + t * dx\n",
    "        H = f_hess(x)\n",
    "        upper = np.column_stack((H, A.T))\n",
    "        lower = np.column_stack((A, np.zeros((row, row))))\n",
    "        KKT = np.row_stack((upper, lower))\n",
    "        dfx = f_grad(x)\n",
    "        RHS = np.append(dfx, np.zeros(row))\n",
    "        epsilon =  abs(f(last_x) - f(x)); epsilon_hist.append(epsilon)\n",
    "        #print(dfx.T.dot(dx))\n",
    "    return x,epsilon,count"
   ]
  },
  {
   "cell_type": "code",
   "execution_count": 10,
   "metadata": {
    "scrolled": true
   },
   "outputs": [],
   "source": [
    "# IGNORE THIS\n",
    "def NewtonMethodDual(A, b, x0, alpha, beta, tol):\n",
    "    \"\"\"\n",
    "    Implement Newton's method optimization with equality constraints.\n",
    "    Input:\n",
    "      A is the coefficient of the matrix that represents equality constraint (Ax-b)=0\n",
    "      alpha, beta are parameters for backtracking line search\n",
    "      tol, the algorithm terminates if |f(x)-f(last_x)| < tol\n",
    "      Function f(), f_grad(), f_hess() represent the objective function to be minimized,\n",
    "        the gradient and the hessian\n",
    "    Output:\n",
    "      x where the minimum is found\n",
    "      epsilon the value of |f(x)-f(last_x)| from the final iteration\n",
    "      count, the number of iterations\n",
    "    \"\"\"\n",
    "    def f(x):\n",
    "        \"\"\" evaluate objective function at x \"\"\"\n",
    "        atx = A.T @ x\n",
    "        btxm = -b.T @ x\n",
    "        n = len(atx)\n",
    "        return flipsign*(btxm+np.log(atx).sum()+n)\n",
    "    def f_grad(x):\n",
    "        \"\"\" return the gradient vector at f(x) \"\"\"\n",
    "        atx = A.T @ x\n",
    "        y = 1/atx\n",
    "        Ay = A @ y\n",
    "        return flipsign*(-b+Ay)\n",
    "    def f_hess(x):\n",
    "        \"\"\" return the hessian matrix at f(x) \"\"\"\n",
    "        atx = A.T @ x\n",
    "        y = 1/atx**2\n",
    "        D = np.diagflat(y)\n",
    "        ADAm = -A @ D @ A.T\n",
    "        return flipsign*(ADAm)\n",
    "    \n",
    "    flipsign = -1\n",
    "    (row, col) = A.shape\n",
    "    x = x0\n",
    "    H = f_hess(x) # H is hessian of f(x)\n",
    "    upper = np.column_stack((H, A.T)) # [Hessian, A^T]\n",
    "    lower = np.column_stack((A, np.zeros((row, row)))) # [A, 0]\n",
    "    KKT = np.row_stack((upper, lower)) # this the the matrix on the left\n",
    "    dfx = f_grad(x) # this is - nabla f(x)\n",
    "    RHS = np.append(dfx, np.zeros(row)) # right hand side\n",
    "    epsilon =  100 # get the Newton decrement\n",
    "    count = 0\n",
    "    # clear search history\n",
    "    x_hist.clear()\n",
    "    fx_hist.clear()  # objective function value\n",
    "    dfx_hist.clear()  # derivative of objective function / gradient vector at x\n",
    "    hfx_hist.clear()  # second derivative of objective function / hessian matrix at x\n",
    "    dx_hist.clear()  # Newton step / search direction\n",
    "    epsilon_hist.clear()\n",
    "    while epsilon > tol and count < 500:\n",
    "        \n",
    "        count = count + 1\n",
    "        # save the search paths\n",
    "        x_hist.append(x)\n",
    "        fx_hist.append(f(x))\n",
    "        dfx_hist.append(dfx)\n",
    "        hfx_hist.append(H)\n",
    "        \n",
    "        LHS = np.squeeze(np.array(inv(KKT).dot(RHS)))\n",
    "        dx = -np.array(LHS)[:col]; dx_hist.append(dx)\n",
    "        t = 1\n",
    "        # using backtracking line search\n",
    "        back_ct=0\n",
    "        fval = f(x)\n",
    "        while f(x + t * dx) >= fval - alpha * t * dfx.T.dot(dx):\n",
    "            t = t * beta\n",
    "            back_ct+=1\n",
    "            if back_ct>50:\n",
    "                break\n",
    "        # update the parameters\n",
    "        last_x=x\n",
    "        x = x + t * dx\n",
    "        H = f_hess(x)\n",
    "        upper = np.column_stack((H, A.T))\n",
    "        lower = np.column_stack((A, np.zeros((row, row))))\n",
    "        KKT = np.row_stack((upper, lower))\n",
    "        dfx = f_grad(x)\n",
    "        RHS = np.append(dfx, np.zeros(row))\n",
    "        epsilon =  abs(f(last_x) - f(x)); epsilon_hist.append(epsilon)\n",
    "        #print(dfx.T.dot(dx))\n",
    "    return x,epsilon,count"
   ]
  },
  {
   "cell_type": "code",
   "execution_count": 11,
   "metadata": {},
   "outputs": [],
   "source": [
    "# alpha = 0.1\n",
    "# beta = 0.5\n",
    "# tol = 1e-12\n",
    "# A=np.array([[1,1,1,1,1]]) # define 1x5 matrix (p=1, n=5), single constraint sum(x_i)=1\n",
    "# b=vect([1])\n",
    "# x=np.array([2,2,2,2,2])\n",
    "# atx=A.T @ l\n",
    "# y=1/atx**2\n",
    "# D=np.diagflat(y)\n",
    "# -A @ D @ A.T\n",
    "# #NewtonMethodDual(A, b, l, alpha, beta, tol)\n",
    "# NewtonMethod(A, x, alpha, beta, tol)"
   ]
  },
  {
   "cell_type": "code",
   "execution_count": 12,
   "metadata": {},
   "outputs": [],
   "source": [
    "alpha = 0.1\n",
    "beta = 0.5\n",
    "tol = 1e-12"
   ]
  },
  {
   "cell_type": "code",
   "execution_count": 13,
   "metadata": {},
   "outputs": [],
   "source": [
    "# test with a small test case\n",
    "# n=3 (dimension)\n",
    "# p=1 (constrain sum(x_i)=1)\n",
    "# x0 must start in the feasible set\n",
    "x0=np.array([0.2,0.5,0.3])  # note the element-sum of x0 is 1\n",
    "A=np.array([[1,1,1]])\n",
    "b=np.array([[1]])"
   ]
  },
  {
   "cell_type": "code",
   "execution_count": 14,
   "metadata": {},
   "outputs": [
    {
     "name": "stdout",
     "output_type": "stream",
     "text": [
      "3.506557897319982\n",
      "3.3072267512534124\n",
      "3.2958912736500254\n",
      "3.295836866997819\n",
      "3.29583686600433\n",
      "Wall time: 15.6 ms\n"
     ]
    },
    {
     "data": {
      "text/plain": [
       "(array([0.33333333, 0.33333333, 0.33333333]), 4.440892098500626e-16, 5)"
      ]
     },
     "execution_count": 14,
     "metadata": {},
     "output_type": "execute_result"
    }
   ],
   "source": [
    "%%time\n",
    "NewtonMethod(A, x0, alpha, beta, tol)"
   ]
  },
  {
   "cell_type": "code",
   "execution_count": 15,
   "metadata": {},
   "outputs": [
    {
     "data": {
      "text/plain": [
       "[array([0.2, 0.5, 0.3]),\n",
       " array([0.29473684, 0.34210526, 0.36315789]),\n",
       " array([0.3307705 , 0.33567068, 0.33355882]),\n",
       " array([0.33332553, 0.3333292 , 0.33334528]),\n",
       " array([0.33333333, 0.33333333, 0.33333333])]"
      ]
     },
     "execution_count": 15,
     "metadata": {},
     "output_type": "execute_result"
    }
   ],
   "source": [
    "x_hist"
   ]
  },
  {
   "cell_type": "code",
   "execution_count": 16,
   "metadata": {},
   "outputs": [
    {
     "data": {
      "text/plain": [
       "[1.0, 1.0, 1.0, 1.0, 0.9999999999999998]"
      ]
     },
     "execution_count": 16,
     "metadata": {},
     "output_type": "execute_result"
    }
   ],
   "source": [
    "# note the constraint sum(x_i)=1 holds at all times during the search\n",
    "[sum(x) for x in x_hist]"
   ]
  },
  {
   "cell_type": "code",
   "execution_count": 17,
   "metadata": {},
   "outputs": [
    {
     "data": {
      "text/plain": [
       "0    1.993311e-01\n",
       "1    1.133548e-02\n",
       "2    5.440665e-05\n",
       "3    9.934888e-10\n",
       "4    4.440892e-16\n",
       "dtype: float64"
      ]
     },
     "execution_count": 17,
     "metadata": {},
     "output_type": "execute_result"
    },
    {
     "data": {
      "image/png": "[encoded data removed]",
      "text/plain": [
       "<Figure size 432x288 with 1 Axes>"
      ]
     },
     "metadata": {
      "needs_background": "light"
     },
     "output_type": "display_data"
    }
   ],
   "source": [
    "ts=pd.Series(epsilon_hist)\n",
    "plt=ts.plot(logy=True)\n",
    "plt.set_xlabel('iteration')\n",
    "plt.set_ylabel('epsilon')\n",
    "ts"
   ]
  },
  {
   "cell_type": "code",
   "execution_count": 18,
   "metadata": {},
   "outputs": [
    {
     "data": {
      "text/plain": [
       "[0.0, 0.0, 0.0, 1.1102230246251565e-16, 2.220446049250313e-16]"
      ]
     },
     "execution_count": 18,
     "metadata": {},
     "output_type": "execute_result"
    }
   ],
   "source": [
    "# compute l1-norm of x_hist[0] with every elem of x_hist[0..n]\n",
    "# the output should be practically zero since the algorithm ensures x stays feasible during the search\n",
    "[sum(A@(x_hist[0] - x)) for x in x_hist]"
   ]
  },
  {
   "cell_type": "code",
   "execution_count": 19,
   "metadata": {},
   "outputs": [],
   "source": [
    "A1 = np.array([1 for i in range(500)])"
   ]
  },
  {
   "cell_type": "code",
   "execution_count": 20,
   "metadata": {},
   "outputs": [],
   "source": [
    "def cst(j,i):\n",
    "    if j==i-1 or j==i:\n",
    "        return 1\n",
    "    else:\n",
    "        return 0"
   ]
  },
  {
   "cell_type": "code",
   "execution_count": 21,
   "metadata": {},
   "outputs": [],
   "source": [
    "A2=np.array([[cst(j,i) for j in range(500)] for i in range(1,100)])"
   ]
  },
  {
   "cell_type": "code",
   "execution_count": 22,
   "metadata": {},
   "outputs": [],
   "source": [
    "A=np.row_stack((A1,A2))"
   ]
  },
  {
   "cell_type": "code",
   "execution_count": 23,
   "metadata": {},
   "outputs": [
    {
     "data": {
      "text/plain": [
       "array([[1, 1, 1, ..., 1, 1, 1],\n",
       "       [1, 1, 0, ..., 0, 0, 0],\n",
       "       [0, 1, 1, ..., 0, 0, 0],\n",
       "       ...,\n",
       "       [0, 0, 0, ..., 0, 0, 0],\n",
       "       [0, 0, 0, ..., 0, 0, 0],\n",
       "       [0, 0, 0, ..., 0, 0, 0]])"
      ]
     },
     "execution_count": 23,
     "metadata": {},
     "output_type": "execute_result"
    }
   ],
   "source": [
    "A"
   ]
  },
  {
   "cell_type": "code",
   "execution_count": 24,
   "metadata": {},
   "outputs": [],
   "source": [
    "x0 = np.array([0.5*i+1 for i in range(500)])"
   ]
  },
  {
   "cell_type": "code",
   "execution_count": 25,
   "metadata": {
    "scrolled": true
   },
   "outputs": [
    {
     "data": {
      "text/plain": [
       "array([  1. ,   1.5,   2. ,   2.5,   3. ,   3.5,   4. ,   4.5,   5. ,\n",
       "         5.5,   6. ,   6.5,   7. ,   7.5,   8. ,   8.5,   9. ,   9.5,\n",
       "        10. ,  10.5,  11. ,  11.5,  12. ,  12.5,  13. ,  13.5,  14. ,\n",
       "        14.5,  15. ,  15.5,  16. ,  16.5,  17. ,  17.5,  18. ,  18.5,\n",
       "        19. ,  19.5,  20. ,  20.5,  21. ,  21.5,  22. ,  22.5,  23. ,\n",
       "        23.5,  24. ,  24.5,  25. ,  25.5,  26. ,  26.5,  27. ,  27.5,\n",
       "        28. ,  28.5,  29. ,  29.5,  30. ,  30.5,  31. ,  31.5,  32. ,\n",
       "        32.5,  33. ,  33.5,  34. ,  34.5,  35. ,  35.5,  36. ,  36.5,\n",
       "        37. ,  37.5,  38. ,  38.5,  39. ,  39.5,  40. ,  40.5,  41. ,\n",
       "        41.5,  42. ,  42.5,  43. ,  43.5,  44. ,  44.5,  45. ,  45.5,\n",
       "        46. ,  46.5,  47. ,  47.5,  48. ,  48.5,  49. ,  49.5,  50. ,\n",
       "        50.5,  51. ,  51.5,  52. ,  52.5,  53. ,  53.5,  54. ,  54.5,\n",
       "        55. ,  55.5,  56. ,  56.5,  57. ,  57.5,  58. ,  58.5,  59. ,\n",
       "        59.5,  60. ,  60.5,  61. ,  61.5,  62. ,  62.5,  63. ,  63.5,\n",
       "        64. ,  64.5,  65. ,  65.5,  66. ,  66.5,  67. ,  67.5,  68. ,\n",
       "        68.5,  69. ,  69.5,  70. ,  70.5,  71. ,  71.5,  72. ,  72.5,\n",
       "        73. ,  73.5,  74. ,  74.5,  75. ,  75.5,  76. ,  76.5,  77. ,\n",
       "        77.5,  78. ,  78.5,  79. ,  79.5,  80. ,  80.5,  81. ,  81.5,\n",
       "        82. ,  82.5,  83. ,  83.5,  84. ,  84.5,  85. ,  85.5,  86. ,\n",
       "        86.5,  87. ,  87.5,  88. ,  88.5,  89. ,  89.5,  90. ,  90.5,\n",
       "        91. ,  91.5,  92. ,  92.5,  93. ,  93.5,  94. ,  94.5,  95. ,\n",
       "        95.5,  96. ,  96.5,  97. ,  97.5,  98. ,  98.5,  99. ,  99.5,\n",
       "       100. , 100.5, 101. , 101.5, 102. , 102.5, 103. , 103.5, 104. ,\n",
       "       104.5, 105. , 105.5, 106. , 106.5, 107. , 107.5, 108. , 108.5,\n",
       "       109. , 109.5, 110. , 110.5, 111. , 111.5, 112. , 112.5, 113. ,\n",
       "       113.5, 114. , 114.5, 115. , 115.5, 116. , 116.5, 117. , 117.5,\n",
       "       118. , 118.5, 119. , 119.5, 120. , 120.5, 121. , 121.5, 122. ,\n",
       "       122.5, 123. , 123.5, 124. , 124.5, 125. , 125.5, 126. , 126.5,\n",
       "       127. , 127.5, 128. , 128.5, 129. , 129.5, 130. , 130.5, 131. ,\n",
       "       131.5, 132. , 132.5, 133. , 133.5, 134. , 134.5, 135. , 135.5,\n",
       "       136. , 136.5, 137. , 137.5, 138. , 138.5, 139. , 139.5, 140. ,\n",
       "       140.5, 141. , 141.5, 142. , 142.5, 143. , 143.5, 144. , 144.5,\n",
       "       145. , 145.5, 146. , 146.5, 147. , 147.5, 148. , 148.5, 149. ,\n",
       "       149.5, 150. , 150.5, 151. , 151.5, 152. , 152.5, 153. , 153.5,\n",
       "       154. , 154.5, 155. , 155.5, 156. , 156.5, 157. , 157.5, 158. ,\n",
       "       158.5, 159. , 159.5, 160. , 160.5, 161. , 161.5, 162. , 162.5,\n",
       "       163. , 163.5, 164. , 164.5, 165. , 165.5, 166. , 166.5, 167. ,\n",
       "       167.5, 168. , 168.5, 169. , 169.5, 170. , 170.5, 171. , 171.5,\n",
       "       172. , 172.5, 173. , 173.5, 174. , 174.5, 175. , 175.5, 176. ,\n",
       "       176.5, 177. , 177.5, 178. , 178.5, 179. , 179.5, 180. , 180.5,\n",
       "       181. , 181.5, 182. , 182.5, 183. , 183.5, 184. , 184.5, 185. ,\n",
       "       185.5, 186. , 186.5, 187. , 187.5, 188. , 188.5, 189. , 189.5,\n",
       "       190. , 190.5, 191. , 191.5, 192. , 192.5, 193. , 193.5, 194. ,\n",
       "       194.5, 195. , 195.5, 196. , 196.5, 197. , 197.5, 198. , 198.5,\n",
       "       199. , 199.5, 200. , 200.5, 201. , 201.5, 202. , 202.5, 203. ,\n",
       "       203.5, 204. , 204.5, 205. , 205.5, 206. , 206.5, 207. , 207.5,\n",
       "       208. , 208.5, 209. , 209.5, 210. , 210.5, 211. , 211.5, 212. ,\n",
       "       212.5, 213. , 213.5, 214. , 214.5, 215. , 215.5, 216. , 216.5,\n",
       "       217. , 217.5, 218. , 218.5, 219. , 219.5, 220. , 220.5, 221. ,\n",
       "       221.5, 222. , 222.5, 223. , 223.5, 224. , 224.5, 225. , 225.5,\n",
       "       226. , 226.5, 227. , 227.5, 228. , 228.5, 229. , 229.5, 230. ,\n",
       "       230.5, 231. , 231.5, 232. , 232.5, 233. , 233.5, 234. , 234.5,\n",
       "       235. , 235.5, 236. , 236.5, 237. , 237.5, 238. , 238.5, 239. ,\n",
       "       239.5, 240. , 240.5, 241. , 241.5, 242. , 242.5, 243. , 243.5,\n",
       "       244. , 244.5, 245. , 245.5, 246. , 246.5, 247. , 247.5, 248. ,\n",
       "       248.5, 249. , 249.5, 250. , 250.5])"
      ]
     },
     "execution_count": 25,
     "metadata": {},
     "output_type": "execute_result"
    }
   ],
   "source": [
    "x0"
   ]
  },
  {
   "cell_type": "code",
   "execution_count": 26,
   "metadata": {
    "scrolled": true
   },
   "outputs": [
    {
     "name": "stdout",
     "output_type": "stream",
     "text": [
      "-2270.9734742812684\n",
      "-2300.0694120185362\n",
      "-2305.033144809954\n",
      "-2305.3592866667277\n",
      "-2305.363440559174\n",
      "-2305.3634422023033\n",
      "Wall time: 234 ms\n"
     ]
    },
    {
     "data": {
      "text/plain": [
       "(array([  1.25,   1.25,   2.25,   2.25,   3.25,   3.25,   4.25,   4.25,\n",
       "          5.25,   5.25,   6.25,   6.25,   7.25,   7.25,   8.25,   8.25,\n",
       "          9.25,   9.25,  10.25,  10.25,  11.25,  11.25,  12.25,  12.25,\n",
       "         13.25,  13.25,  14.25,  14.25,  15.25,  15.25,  16.25,  16.25,\n",
       "         17.25,  17.25,  18.25,  18.25,  19.25,  19.25,  20.25,  20.25,\n",
       "         21.25,  21.25,  22.25,  22.25,  23.25,  23.25,  24.25,  24.25,\n",
       "         25.25,  25.25,  26.25,  26.25,  27.25,  27.25,  28.25,  28.25,\n",
       "         29.25,  29.25,  30.25,  30.25,  31.25,  31.25,  32.25,  32.25,\n",
       "         33.25,  33.25,  34.25,  34.25,  35.25,  35.25,  36.25,  36.25,\n",
       "         37.25,  37.25,  38.25,  38.25,  39.25,  39.25,  40.25,  40.25,\n",
       "         41.25,  41.25,  42.25,  42.25,  43.25,  43.25,  44.25,  44.25,\n",
       "         45.25,  45.25,  46.25,  46.25,  47.25,  47.25,  48.25,  48.25,\n",
       "         49.25,  49.25,  50.25,  50.25, 150.75, 150.75, 150.75, 150.75,\n",
       "        150.75, 150.75, 150.75, 150.75, 150.75, 150.75, 150.75, 150.75,\n",
       "        150.75, 150.75, 150.75, 150.75, 150.75, 150.75, 150.75, 150.75,\n",
       "        150.75, 150.75, 150.75, 150.75, 150.75, 150.75, 150.75, 150.75,\n",
       "        150.75, 150.75, 150.75, 150.75, 150.75, 150.75, 150.75, 150.75,\n",
       "        150.75, 150.75, 150.75, 150.75, 150.75, 150.75, 150.75, 150.75,\n",
       "        150.75, 150.75, 150.75, 150.75, 150.75, 150.75, 150.75, 150.75,\n",
       "        150.75, 150.75, 150.75, 150.75, 150.75, 150.75, 150.75, 150.75,\n",
       "        150.75, 150.75, 150.75, 150.75, 150.75, 150.75, 150.75, 150.75,\n",
       "        150.75, 150.75, 150.75, 150.75, 150.75, 150.75, 150.75, 150.75,\n",
       "        150.75, 150.75, 150.75, 150.75, 150.75, 150.75, 150.75, 150.75,\n",
       "        150.75, 150.75, 150.75, 150.75, 150.75, 150.75, 150.75, 150.75,\n",
       "        150.75, 150.75, 150.75, 150.75, 150.75, 150.75, 150.75, 150.75,\n",
       "        150.75, 150.75, 150.75, 150.75, 150.75, 150.75, 150.75, 150.75,\n",
       "        150.75, 150.75, 150.75, 150.75, 150.75, 150.75, 150.75, 150.75,\n",
       "        150.75, 150.75, 150.75, 150.75, 150.75, 150.75, 150.75, 150.75,\n",
       "        150.75, 150.75, 150.75, 150.75, 150.75, 150.75, 150.75, 150.75,\n",
       "        150.75, 150.75, 150.75, 150.75, 150.75, 150.75, 150.75, 150.75,\n",
       "        150.75, 150.75, 150.75, 150.75, 150.75, 150.75, 150.75, 150.75,\n",
       "        150.75, 150.75, 150.75, 150.75, 150.75, 150.75, 150.75, 150.75,\n",
       "        150.75, 150.75, 150.75, 150.75, 150.75, 150.75, 150.75, 150.75,\n",
       "        150.75, 150.75, 150.75, 150.75, 150.75, 150.75, 150.75, 150.75,\n",
       "        150.75, 150.75, 150.75, 150.75, 150.75, 150.75, 150.75, 150.75,\n",
       "        150.75, 150.75, 150.75, 150.75, 150.75, 150.75, 150.75, 150.75,\n",
       "        150.75, 150.75, 150.75, 150.75, 150.75, 150.75, 150.75, 150.75,\n",
       "        150.75, 150.75, 150.75, 150.75, 150.75, 150.75, 150.75, 150.75,\n",
       "        150.75, 150.75, 150.75, 150.75, 150.75, 150.75, 150.75, 150.75,\n",
       "        150.75, 150.75, 150.75, 150.75, 150.75, 150.75, 150.75, 150.75,\n",
       "        150.75, 150.75, 150.75, 150.75, 150.75, 150.75, 150.75, 150.75,\n",
       "        150.75, 150.75, 150.75, 150.75, 150.75, 150.75, 150.75, 150.75,\n",
       "        150.75, 150.75, 150.75, 150.75, 150.75, 150.75, 150.75, 150.75,\n",
       "        150.75, 150.75, 150.75, 150.75, 150.75, 150.75, 150.75, 150.75,\n",
       "        150.75, 150.75, 150.75, 150.75, 150.75, 150.75, 150.75, 150.75,\n",
       "        150.75, 150.75, 150.75, 150.75, 150.75, 150.75, 150.75, 150.75,\n",
       "        150.75, 150.75, 150.75, 150.75, 150.75, 150.75, 150.75, 150.75,\n",
       "        150.75, 150.75, 150.75, 150.75, 150.75, 150.75, 150.75, 150.75,\n",
       "        150.75, 150.75, 150.75, 150.75, 150.75, 150.75, 150.75, 150.75,\n",
       "        150.75, 150.75, 150.75, 150.75, 150.75, 150.75, 150.75, 150.75,\n",
       "        150.75, 150.75, 150.75, 150.75, 150.75, 150.75, 150.75, 150.75,\n",
       "        150.75, 150.75, 150.75, 150.75, 150.75, 150.75, 150.75, 150.75,\n",
       "        150.75, 150.75, 150.75, 150.75, 150.75, 150.75, 150.75, 150.75,\n",
       "        150.75, 150.75, 150.75, 150.75, 150.75, 150.75, 150.75, 150.75,\n",
       "        150.75, 150.75, 150.75, 150.75, 150.75, 150.75, 150.75, 150.75,\n",
       "        150.75, 150.75, 150.75, 150.75, 150.75, 150.75, 150.75, 150.75,\n",
       "        150.75, 150.75, 150.75, 150.75, 150.75, 150.75, 150.75, 150.75,\n",
       "        150.75, 150.75, 150.75, 150.75, 150.75, 150.75, 150.75, 150.75,\n",
       "        150.75, 150.75, 150.75, 150.75, 150.75, 150.75, 150.75, 150.75,\n",
       "        150.75, 150.75, 150.75, 150.75, 150.75, 150.75, 150.75, 150.75,\n",
       "        150.75, 150.75, 150.75, 150.75, 150.75, 150.75, 150.75, 150.75,\n",
       "        150.75, 150.75, 150.75, 150.75, 150.75, 150.75, 150.75, 150.75,\n",
       "        150.75, 150.75, 150.75, 150.75]), 4.547473508864641e-13, 6)"
      ]
     },
     "execution_count": 26,
     "metadata": {},
     "output_type": "execute_result"
    }
   ],
   "source": [
    "%%time\n",
    "#res=NewtonMethod(A, x0, a, b, tol)\n",
    "NewtonMethod(A, x0, alpha, beta, tol)"
   ]
  },
  {
   "cell_type": "code",
   "execution_count": 27,
   "metadata": {},
   "outputs": [
    {
     "data": {
      "text/plain": [
       "0    2.909594e+01\n",
       "1    4.963733e+00\n",
       "2    3.261419e-01\n",
       "3    4.153892e-03\n",
       "4    1.643130e-06\n",
       "5    4.547474e-13\n",
       "dtype: float64"
      ]
     },
     "execution_count": 27,
     "metadata": {},
     "output_type": "execute_result"
    },
    {
     "data": {
      "image/png": "[encoded data removed]",
      "text/plain": [
       "<Figure size 432x288 with 1 Axes>"
      ]
     },
     "metadata": {
      "needs_background": "light"
     },
     "output_type": "display_data"
    }
   ],
   "source": [
    "ts=pd.Series(epsilon_hist)\n",
    "plt=ts.plot(logy=True)\n",
    "plt.set_xlabel('iteration')\n",
    "plt.set_ylabel('epsilon')\n",
    "ts"
   ]
  },
  {
   "cell_type": "code",
   "execution_count": 28,
   "metadata": {},
   "outputs": [
    {
     "data": {
      "text/plain": [
       "[0.0,\n",
       " 3.099076550938662e-12,\n",
       " 5.9821037012852685e-12,\n",
       " 2.2035706592760107e-12,\n",
       " 1.0793810290010697e-11,\n",
       " 1.5482060078397808e-11]"
      ]
     },
     "execution_count": 28,
     "metadata": {},
     "output_type": "execute_result"
    }
   ],
   "source": [
    "# to show the algorithm enforces the constraints correctly,\n",
    "# we show l1-norm of x_hist[0] with every elem of x_hist[0..n] are zero\n",
    "[sum(A@(x_hist[0] - x)) for x in x_hist]"
   ]
  },
  {
   "cell_type": "markdown",
   "metadata": {},
   "source": [
    "# Question.2"
   ]
  },
  {
   "cell_type": "markdown",
   "metadata": {},
   "source": [
    "## (a)\n",
    "\n",
    "First, show the equivelent between these 4 conditions.\n",
    "___\n",
    "* Condition 1 is equivalent to Condition 2\n",
    "\n",
    "Condition 1 $\\rightarrow$ Condition 2\n",
    "\n",
    "Suppose $x \\in \\mathcal N(A) \\cap \\mathcal N(H)$ and $x \\neq 0$. In condition 2, we have  $Ax = 0\\, x \\neq 0$. Since $x \\in \\mathcal N(A) \\cap \\mathcal N(H)$, we have $x^THx = 0$, this contradict to to second statement.\n",
    "\n",
    "Condition 2 $\\rightarrow$ Condition 1\n",
    "\n",
    "If there is an $x$ s.t. $Ax = 0\\, x \\neq 0, x^THX = 0$. Because $H$ is semipositive definate, we must have $Hx = 0$, i.e.   $x \\in \\mathcal N(A) \\cap \\mathcal N(H)$\n",
    "___\n",
    "* Condition 2 is equivalent to Condition 3\n",
    "\n",
    "If $Ax = 0, x \\neq 0$, then because $\\mathcal R(F) = \\mathcal N (A)$, we have $x = Fz$ and $z \\neq 0$. Then because of 2 we have $x^T Hx = z^TF^THFZ > 0$\n",
    "\n",
    "___\n",
    "* Condition 2 is equivalent to Condition 4\n",
    "If we have the condition 2. then \n",
    "\n",
    "$$\n",
    "x^T(H + A^TA) = x^THx + \\vert\\vert A^Tx\\vert\\vert^2_2 > 0\n",
    "$$\n",
    "for all nonzero x, sot the condition 4 holds for $Q = I$.\n",
    "If the fourth condition hols with general semipositive definate form of $Q$.\n",
    "$$\n",
    "x^T(H + A^TQA) = x^THx + x^TA^TQAx > 0\n",
    "$$\n",
    "for all nonzero $x$, Therefore if $Ax = 0\\, x \\neq 0$, we must have $x\\neq 0$\n",
    "___\n",
    "Second show these four conditions are equivalent to nonsigularity of KKT matrix.\n",
    "\n",
    "Suppose $x\\neq 0$, s.t.$Ax = 0, Hx = 0$\n",
    "$$\n",
    "\\begin{bmatrix}\n",
    "H & A^T\\\\\n",
    "A & 0\n",
    "\\end{bmatrix}\n",
    "\\begin{bmatrix}\n",
    "x\\\\\n",
    "0\n",
    "\\end{bmatrix} = 0$$\n",
    "\n",
    "If the KKT matrix is singular, $x,z$ are not both zero, and we have\n",
    "$$\n",
    "\\begin{bmatrix}\n",
    "H & A^T\\\\\n",
    "A & 0\n",
    "\\end{bmatrix}\n",
    "\\begin{bmatrix}\n",
    "x\\\\\n",
    "z\n",
    "\\end{bmatrix} = 0$$\n",
    "\n",
    "This leads to $Hx + A^Tz = 0$, and $Ax = 0$. \n",
    "from the first equation, we have \n",
    "$$\n",
    "x^THx + x^TA^Tz = 0.\n",
    "$$\n",
    "plug in the second equation.\n",
    "we have $x^THx = 0$, this contradicts second condition unless $x= 0$.\n",
    "\n",
    "## (b)\n",
    "From previous question, we have $H + A^TA$ is positive definate matrix. Then we must hvae $R \\in \\mathbb R^{n\\times n}$, s.t.\n",
    "$$\n",
    "R^T(H + A^TA)R = I\n",
    "$$\n",
    "Apply SVD to $AR$, $AR = U\\Sigma V_1^T$, where $\\Sigma = diag(\\sigma_1,\\cdots, \\sigma_p)$. Denote $V_2 \\in \\mathbb R^{n\\times(n-p)}$, s.t.\n",
    "$$\n",
    "V = \\left[V_1\\quad V_2\\right]\n",
    "$$\n",
    "$V_2$ is orthogonal, and let \n",
    "$$\n",
    "S = \\left[\\Sigma\\quad 0\\right] \\in \\mathbb R^{p\\times n}\n",
    "$$\n",
    "We have $AR = USV^T$, then \n",
    "$$\n",
    "V^TR^T(H + A^TA)RV = V^TR^THRV + S^TS = I\n",
    "$$\n",
    "Becasue $V^TR^THRV = I - S^TS$ is diagonal matrix, then denote it as $D$\n",
    "$$\n",
    "D = V^TR^THRV = diag(1-\\sigma_1^2, \\cdots, 1-\\sigma_p^2, 1, \\cdots, 1)\n",
    "$$\n",
    "Apply the transform to KKT matrix, we have\n",
    "\n",
    "$$\n",
    "\\begin{bmatrix}\n",
    "V^TR^T & 0\\\\\n",
    "0 & U\n",
    "\\end{bmatrix}\n",
    "\\begin{bmatrix}\n",
    "H & A^T\\\\\n",
    "A & 0\n",
    "\\end{bmatrix}\n",
    "\\begin{bmatrix}\n",
    "RV & 0\\\\\n",
    "0 & U\n",
    "\\end{bmatrix}\n",
    "=\n",
    "\\begin{bmatrix}\n",
    "D & S^T\\\\\n",
    "S & 0\n",
    "\\end{bmatrix}\n",
    "$$\n",
    "Apply the permutation to hte matrix on the right gives a block diaonal matrix with n diagonal blocks.\n",
    "$$\n",
    "\\begin{bmatrix}\n",
    "\\lambda_i & \\sigma_i\\\\\n",
    "\\sigma_i & 0\n",
    "\\end{bmatrix}\n",
    "$$\n",
    "where $i = 1,2,\\cdots, p$, \n",
    "\n",
    "and $\\lambda_i = 1$ for $i = p +1, \\cdots, n$\n",
    "\n",
    "This matrix have eiggenvalues of $\\frac{\\lambda_i \\pm \\sqrt{\\lambda_i^2 + 4\\sigma_i^2}}{2}$, i.e. one eigen value is positive, another is negative. \n",
    "\n",
    "In total, there are n positive evalues and p negative evalues."
   ]
  }
 ],
 "metadata": {
  "kernelspec": {
   "display_name": "Python 3",
   "language": "python",
   "name": "python3"
  },
  "language_info": {
   "codemirror_mode": {
    "name": "ipython",
    "version": 3
   },
   "file_extension": ".py",
   "mimetype": "text/x-python",
   "name": "python",
   "nbconvert_exporter": "python",
   "pygments_lexer": "ipython3",
   "version": "3.7.0"
  }
 },
 "nbformat": 4,
 "nbformat_minor": 2
}
