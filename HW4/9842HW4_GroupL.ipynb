{
 "cells": [
  {
   "cell_type": "markdown",
   "metadata": {},
   "source": [
    "# MTH9842 HW4\n",
    "## Group L\n",
    "## Yang Li, Jimmy Jusuf, Zhirong Zhang, Tiangang Zhang\n",
    "## December 19, 2018"
   ]
  },
  {
   "cell_type": "markdown",
   "metadata": {},
   "source": [
    "# Question.1"
   ]
  },
  {
   "cell_type": "markdown",
   "metadata": {},
   "source": [
    "Let $\\displaystyle{f(\\mathbf{x})={-\\!}\\sum_{i=1}^n \\log x_i}$ be the objective function, $\\mathbf{x}\\in \\mathbb{R}^n$.\n",
    "\n",
    "## (i)\n",
    "We want to solve\n",
    "$$\n",
    "\\min\\ f(\\mathbf{x}), \\text{ subject to a single equality constraint } h(\\mathbf{x})=\\sum_{i=1}^n x_i -1 = 0\n",
    "$$\n",
    "\n",
    "Define Lagrange function\n",
    "\n",
    "$$\n",
    "L(\\mathbf{x},\\lambda) = f(\\mathbf{x}) + \\lambda\\, h(\\mathbf{x})\n",
    "$$\n",
    "\n",
    "Any optimal points $\\mathbf{x}^*$ must satisfy KKT conditions:\n",
    "\\begin{align}\n",
    "\\nabla L_x = \\nabla f(\\mathbf{x}^*) + \\lambda \\nabla h(\\mathbf{x}^*) = 0 \\\\\n",
    "h(\\mathbf{x}^*) = 0 \\\\\n",
    "\\lambda\\geq 0 \\\\\n",
    "\\end{align}\n",
    "We conclude\n",
    "$$\n",
    "\\frac{\\partial L}{\\partial x_i} = 0 \n",
    "  \\Rightarrow -\\frac{1}{x_i} + \\lambda = 0 \n",
    "  \\Rightarrow x_i = \\frac 1\\lambda\n",
    "$$\n",
    "$$\n",
    "h(\\mathbf{x})=0 \\Rightarrow \\sum_{i=1}^n x_i = 1 \n",
    "  \\Rightarrow \\sum_{i=1}^n \\frac1\\lambda = 1\n",
    "  \\Rightarrow n\\frac1\\lambda = 1 \n",
    "  \\Rightarrow \\lambda = n\n",
    "  \\Rightarrow x_i = \\frac 1n\n",
    "$$"
   ]
  },
  {
   "cell_type": "markdown",
   "metadata": {},
   "source": [
    "## (ii)\n",
    "Given an optimization problem\n",
    "$$\n",
    "\\begin{array}{ll}\n",
    "  \\text{minimize } & f(\\mathbf{x})={-\\!}\\sum_{i=1}^n \\log x_i \\\\\n",
    "  \\text{subject to } & \\mathbf{Ax}-\\mathbf{b}=0\n",
    "\\end{array}\n",
    "$$\n",
    "Similar to (i), define Lagrange function\n",
    "$$\n",
    "L(\\mathbf{x},\\boldsymbol\\lambda) = f(\\mathbf{x}) + (\\mathbf{Ax} - \\mathbf{b})^T\\boldsymbol\\lambda,\n",
    "  \\quad \\mathbf{A}\\in \\mathbb{R}^{p\\times n}, \n",
    "  \\mathbf{b}\\in\\mathbb{R}^p, \n",
    "  \\boldsymbol\\lambda\\in\\mathbb{R}^p\n",
    "$$\n",
    "\n",
    "The Lagrange dual function is\n",
    "$$\n",
    "q(\\boldsymbol\\lambda) = \\inf_{\\mathbf{x}\\in\\mathcal{D}}L(\\mathbf{x},\\boldsymbol\\lambda)\n",
    "$$\n",
    "\n",
    "Holding $\\boldsymbol\\lambda$ fixed, this is a convex function of $x$. The infimum with respect \n",
    "to $x$ is achieved when $\\displaystyle{\\frac{\\partial L}{\\partial x_i}}$ are zero.\n",
    "\n",
    "Here, $A_{ji}$ is the $j$-th row, $i$-th col element in $\\mathbf{A}$, $i\\in 1\\ldots n$\n",
    "$$\n",
    "\\frac{\\partial L}{\\partial x_i} = 0 \n",
    "  \\Rightarrow  -\\frac{1}{x_i} + \\lambda_j\\sum_{j=1}^p A_{ji} = 0\n",
    "  \\Rightarrow x_i = \\frac{1}{\\lambda\\sum_{j=1}^p A_{ji}} = \\frac{1}{(\\mathbf{A}^{\\!T}\\boldsymbol\\lambda)_i}\n",
    "$$\n",
    "\n",
    "Also we have,\n",
    "$$\\mathbf{Ax} = \n",
    "A\\left(\\begin{array}{c}\\frac{1}{\\lambda \\sum_j A_{j1}}\\\\\n",
    "\\vdots\\\\\n",
    "\\frac{1}{\\lambda \\sum_j A_{jn}}\\\\\n",
    "\\end{array}\\right) = \n",
    "\\left(\n",
    "\\begin{array}{c}\\sum_i\\frac{ A_{1i}}{\\lambda \\sum_j A_{ji}}\\\\\n",
    "\\vdots\\\\\n",
    "\\sum_i\\frac{ A_{ni}}{\\lambda \\sum_j A_{ji}}\\\\\n",
    "\\end{array}\\right)\n",
    "$$\n",
    "Thus we have\n",
    "$$\n",
    "\\mathbf{x}^T\\mathbf{A}^{\\!T}\\boldsymbol\\lambda = \\left(\n",
    "\\begin{array}{c}\\sum_i\\frac{ A_{1i}}{\\lambda \\sum_j A_{ji}}&\n",
    "\\cdots&\n",
    "\\sum_i\\frac{ A_{ni}}{\\lambda \\sum_j A_{ji}}\\\\\n",
    "\\end{array}\\right)\n",
    "\\left(\\begin{array}{cc}\\lambda\\\\ \n",
    "\\vdots\\\\\n",
    "\\lambda \\end{array}\\right) = n\n",
    "$$\n",
    "Substituting into $q(\\boldsymbol\\lambda)$\n",
    "$$\n",
    "q(\\boldsymbol\\lambda) = \\inf_{\\mathbf{x}\\in\\mathcal{D}}L(\\mathbf{x},\\boldsymbol\\lambda) = \n",
    "  \\inf_{\\mathbf{x}\\in\\mathcal{D}}\\left( -\\!\\sum_{i=1}^n \\log x_i + (\\mathbf{Ax} - \\mathbf{b})^T\\boldsymbol\\lambda\\right) =\n",
    "  -\\mathbf{b}^T\\boldsymbol\\lambda - \\sum_{i = 1}^{n} \\log\\frac1{(\\mathbf{A}^{\\!T}\\boldsymbol\\lambda)_i} + n\n",
    "$$\n",
    "i.e. the dual problem is\n",
    "$$\n",
    "\\text{maximize}\\quad q(\\boldsymbol\\lambda) = -\\mathbf{b}^T\\boldsymbol\\lambda +\\sum_{i = 1}^{n} \n",
    "  \\log {(\\mathbf{A}^{\\!T}\\boldsymbol\\lambda)_i} + n\n",
    "$$"
   ]
  },
  {
   "cell_type": "markdown",
   "metadata": {},
   "source": [
    "## (iii)\n",
    "Already solved in (ii)"
   ]
  },
  {
   "cell_type": "markdown",
   "metadata": {},
   "source": [
    "## (iv)\n",
    "By Newton's method, we need to calculate the matrix equation\n",
    "$$\n",
    "\\begin{bmatrix}\n",
    "\\nabla^2 f &A^T\\\\\n",
    "A& 0\n",
    "\\end{bmatrix}\n",
    "\\begin{bmatrix}\n",
    "-\\Delta x\\\\\n",
    "\\lambda\n",
    "\\end{bmatrix}\n",
    "=\n",
    "\\begin{bmatrix}\n",
    "-\\nabla f(x)\\\\\n",
    "0\n",
    "\\end{bmatrix}\n",
    "$$\n",
    "It's easy to see that \n",
    "\n",
    "$$\n",
    "\\nabla f = (-\\frac{1}{x_1},\\cdots, -\\frac{1}{x_n})^T\n",
    "$$\n",
    "\n",
    "$$\n",
    "\\nabla^2 f = \\operatorname{diag}(\\frac{1}{x_1^2},\\cdots, \\frac{1}{x_n^2})\n",
    "$$"
   ]
  },
  {
   "cell_type": "markdown",
   "metadata": {},
   "source": [
    "## (v)\n",
    "To solve the dual problem, we use the following formula for gradient and hessian of\n",
    "$q(\\boldsymbol\\lambda)$.\n",
    "\n",
    "$$\n",
    "\\nabla_{\\!\\lambda}\\,q=-\\mathbf{b}+\\mathbf{A}y \\text{ where }\n",
    "  y=(1/(\\mathbf{A}^{\\!T}\\boldsymbol\\lambda)_1,\\ldots,\n",
    "  1/(\\mathbf{A}^{\\!T}\\boldsymbol\\lambda)_n) \\\\\n",
    "\\nabla^2_{\\!\\lambda}\\,q=-\\mathbf{ADA}^{\\!T}, \\quad D \\text{ is diagonal, with }\n",
    "  D_{ii}=(\\mathbf{A}^{\\!T}\\boldsymbol\\lambda)_i^{-2}\n",
    "$$"
   ]
  },
  {
   "cell_type": "code",
   "execution_count": 1,
   "metadata": {},
   "outputs": [],
   "source": [
    "import numpy as np\n",
    "import pandas as pd\n",
    "\n",
    "%matplotlib inline\n",
    "import matplotlib.pyplot as plt\n",
    "\n",
    "from numpy.linalg import inv\n",
    "\n",
    "# global variables to keep track of search history\n",
    "x_hist = []\n",
    "fx_hist = []  # objective function value\n",
    "dfx_hist = []  # derivative of objective function / gradient vector at x\n",
    "hfx_hist = []  # second derivative of objective function / hessian matrix at x\n",
    "dx_hist = []  # Newton step / search direction\n",
    "epsilon_hist = []"
   ]
  },
  {
   "cell_type": "code",
   "execution_count": 2,
   "metadata": {},
   "outputs": [],
   "source": [
    "def vect(a):\n",
    "    # turn input into a column vector, i.e. a.shape=(numrow,1)\n",
    "    if isvect(a): return a  # do nothing if input is already a vector       \n",
    "    av=np.array(a)[:,None]\n",
    "    #print(av.shape)\n",
    "    assert av.shape==(len(a),1)\n",
    "    return av\n",
    "\n",
    "def isvect(x):\n",
    "    # check if x is a vect\n",
    "    try:\n",
    "        assert isinstance(x, np.ndarray)\n",
    "        if (x.ndim!=2): return False\n",
    "        (nr,nc) = x.shape\n",
    "        return nc==1\n",
    "    except:\n",
    "        return False\n",
    "\n",
    "def sumcol(v):\n",
    "    # input is a vector (assume column vector, but works with row vector too)\n",
    "    # return the sum of elements\n",
    "    assert isinstance(v, np.ndarray)\n",
    "    return np.sum(v)"
   ]
  },
  {
   "cell_type": "code",
   "execution_count": 3,
   "metadata": {},
   "outputs": [
    {
     "name": "stdout",
     "output_type": "stream",
     "text": [
      "True False\n"
     ]
    }
   ],
   "source": [
    "a=vect([1,2,3])\n",
    "b=np.array([4,5,6])\n",
    "print(isvect(a), isvect(b)) # output: True False"
   ]
  },
  {
   "cell_type": "code",
   "execution_count": 4,
   "metadata": {},
   "outputs": [],
   "source": [
    "# Newton method for unconstrained problem\n",
    "def NewtonUnconstrainedSolver(x0, alpha, beta, tol, objfun, objfun_grad, objfun_hess):\n",
    "    assert np.isscalar(alpha) and np.isscalar(beta) and np.isscalar(tol)\n",
    "    epsilon =  100 # get the Newton decrement\n",
    "    gradtol = 1e-5\n",
    "    count = 0\n",
    "    x = x0\n",
    "    while epsilon > tol and count < 500:      \n",
    "        count = count + 1\n",
    "        funcval, gradvec, hessmat = objfun(x), objfun_grad(x), objfun_hess(x)\n",
    "        print(\"x=\", x, \"\\nf(x)=\", funcval, \"\\ngrad(f(x))\", gradvec, \"\\nhess(f(x))\", hessmat)\n",
    "        newton_step = -1*np.matmul(np.linalg.inv(hessmat), gradvec)\n",
    "        print(\"newton_step\", newton_step)\n",
    "        descmag = np.squeeze(gradvec.T.dot(newton_step)) # check descent magnitude\n",
    "        print(\"descent magnitude\", descmag)\n",
    "        # using backtracking line search\n",
    "        back_ct=0\n",
    "        t = 1\n",
    "        # while -np.log(x + t * dx).sum() >= -np.log(x).sum() - alpha * t * dfx.T.dot(dx):\n",
    "        while True:\n",
    "            new_x = x+t*newton_step\n",
    "            print(\"new_x\", new_x)\n",
    "            new_funcval = objfun(new_x)\n",
    "            print(new_funcval, alpha, t, descmag)\n",
    "            if new_funcval < (funcval-alpha*t*descmag): break\n",
    "            t = t * beta\n",
    "            back_ct+=1\n",
    "            if back_ct>50: break\n",
    "        if (abs(descmag)<gradtol): break\n",
    "        # update the parameters\n",
    "        last_x=x\n",
    "        x = new_x\n",
    "        fnew, gradvec, hessmat = new_funcval, objfun_grad(x), objfun_hess(x)\n",
    "        # epsilon =  2*np.sqrt(-np.log(last_x).sum()+np.log(x).sum())\n",
    "        epsilon =  2*np.sqrt(objfun(last_x)-objfun(x))\n",
    "    return x,epsilon,count"
   ]
  },
  {
   "cell_type": "code",
   "execution_count": 5,
   "metadata": {},
   "outputs": [],
   "source": [
    "# class\n",
    "class NewtonSolver:\n",
    "    # Class attribute\n",
    "    objfunc_val = 0;\n",
    "    gradvec = 0;\n",
    "    hess = 0;\n",
    "\n",
    "    # Initializer / Instance attributes\n",
    "    def __init__(self):\n",
    "        None\n",
    "\n",
    "    # instance method\n",
    "    def objfunc(self, x):\n",
    "        return \"{} is {} years old\".format(self.name, self.age)\n",
    "\n",
    "    def grad(self, x):\n",
    "        return \"{} says {}\".format(self.name, sound)"
   ]
  },
  {
   "cell_type": "code",
   "execution_count": 6,
   "metadata": {},
   "outputs": [],
   "source": [
    "# dual function optimizer\n",
    "def nmdual(x0, A, b, alpha, beta, tol):\n",
    "    def func(x):\n",
    "        # implement the dual function\n",
    "        (nr,nc) = A.shape\n",
    "        atl=np.matmul(A.T,x)\n",
    "        sumlog = sumcol(np.log(x))\n",
    "        return -1*(-np.dot(b.T,x)+sumlog+nc)\n",
    "    def grad(x):\n",
    "        # return the gradient of objective function\n",
    "        g=np.matmul(A, inv(np.matmul(A.T,x)))\n",
    "        return -1*(vect(-b)+g)\n",
    "    def hess(x):\n",
    "        # return the hessian of the objective function\n",
    "        atl=np.matmul(A.T,x)\n",
    "        atlinv=inv(atl)\n",
    "        Dii=np.diag(atlinv**2)\n",
    "        D=np.diag(np.matmul(A.T,x))\n",
    "        return -1*((-A @ D) @ A.T)\n",
    "    # compute A' lambda\n",
    "    #atl=np.matmul(A.T,x0)\n",
    "    #atlinv=inv(atl)\n",
    "    #Dii=np.diag(atlinv**2)\n",
    "    return NewtonUnconstrainedSolver(x0, alpha, beta, tol, func, grad, hess)"
   ]
  },
  {
   "cell_type": "code",
   "execution_count": 7,
   "metadata": {},
   "outputs": [],
   "source": [
    "# test code for Newton unconstrained optimization problem\n",
    "def nmprimal(x0, alpha, beta, tol):\n",
    "    def func(x):\n",
    "        # implement objective function f(x) = -sum(log(x_i))\n",
    "        return sumcol(-np.log(x))\n",
    "    def grad(x):\n",
    "        # evaluate the gradient of objective function at point x\n",
    "        return vect(-1/x)\n",
    "    def hess(x):\n",
    "        # evaluate the hessian of the objective function at point x\n",
    "        return np.diagflat(1/x**2)\n",
    "    return NewtonUnconstrainedSolver(x0, alpha, beta, tol, func, grad, hess)"
   ]
  },
  {
   "cell_type": "code",
   "execution_count": 8,
   "metadata": {},
   "outputs": [],
   "source": [
    "alpha = 0.1\n",
    "beta = 0.5\n",
    "tol = 0.0001\n",
    "x0=vect([0.1,0.4,0.3])\n",
    "A=np.hstack((vect([1,1,1]),vect([2,2,2]),vect([3,3,3])))\n",
    "b=vect([1,1,1])"
   ]
  },
  {
   "cell_type": "code",
   "execution_count": 9,
   "metadata": {},
   "outputs": [
    {
     "ename": "NameError",
     "evalue": "name 'nm' is not defined",
     "output_type": "error",
     "traceback": [
      "\u001b[1;31m---------------------------------------------------------------------------\u001b[0m",
      "\u001b[1;31mNameError\u001b[0m                                 Traceback (most recent call last)",
      "\u001b[1;32m<timed eval>\u001b[0m in \u001b[0;36m<module>\u001b[1;34m()\u001b[0m\n",
      "\u001b[1;31mNameError\u001b[0m: name 'nm' is not defined"
     ]
    }
   ],
   "source": [
    "%%time\n",
    "#nm(x0,alpha,beta,tol)"
   ]
  },
  {
   "cell_type": "code",
   "execution_count": 10,
   "metadata": {},
   "outputs": [],
   "source": [
    "def NewtonMethod_acp(A, x0, alpha, beta, tol):\n",
    "    def f(x):\n",
    "        # evaluate objective function at x\n",
    "        return -np.log(x).sum()\n",
    "    def decrement(dfx, H):\n",
    "        # define the function to calculate lambda(x), which is the Newton decrement\n",
    "        return np.sqrt(np.dot(dfx.T,np.dot(np.diag(1/np.diag(H)), dfx)))\n",
    "    (row, col) = A.shape\n",
    "    x = x0\n",
    "    H = np.diag(1/x**2) # H is hessian of f(x)\n",
    "    upper = np.column_stack((H, A.T)) # [Hessian, A^T]\n",
    "    lower = np.column_stack((A, np.zeros((row, row)))) # [A, 0]\n",
    "    KKT = np.row_stack((upper, lower)) # this the the matrix on the left\n",
    "    dfx = -1 / x # this is - nabla f(x)\n",
    "    RHS = np.append(dfx, np.zeros(row)) # right hand side\n",
    "    epsilon =  decrement(dfx, H) # get the Newton decrement\n",
    "    count = 0\n",
    "    while epsilon > tol and count < 500:\n",
    "        \n",
    "        count = count + 1\n",
    "        LHS = np.squeeze(np.array(inv(KKT).dot(RHS)))\n",
    "        dx = -np.array(LHS)[:col]\n",
    "        t = 1\n",
    "        # using backtracking line search\n",
    "        back_ct=0\n",
    "        while f(x + t * dx) >= f(x) - alpha * t * dfx.T.dot(dx):\n",
    "            t = t * beta\n",
    "            back_ct+=1\n",
    "            if back_ct>50:\n",
    "                break\n",
    "        # update the parameters\n",
    "        x = x + t * dx\n",
    "        H = np.diag(1/x**2)\n",
    "        upper = np.column_stack((H, A.T))\n",
    "        lower = np.column_stack((A, np.zeros((row, row))))\n",
    "        KKT = np.row_stack((upper, lower))\n",
    "        dfx = -1 / x\n",
    "        RHS = np.append(dfx, np.zeros(row))\n",
    "        epsilon =  decrement(dfx, H)\n",
    "    return x,epsilon,count"
   ]
  },
  {
   "cell_type": "code",
   "execution_count": 11,
   "metadata": {},
   "outputs": [],
   "source": [
    "def NewtonMethod_acp_new_decrement(A, x0, alpha, beta, tol):\n",
    "    def f(x):\n",
    "        # evaluate objective function at x\n",
    "        return -np.log(x).sum()\n",
    "    def f_grad(x):\n",
    "        # return the gradient vector at f(x)\n",
    "        return -1 / x\n",
    "    def f_hess(x):\n",
    "        # return the hessian matrix at f(x)\n",
    "        return np.diag(1/x**2)\n",
    "    (row, col) = A.shape\n",
    "    x = x0\n",
    "    H = f_hess(x) # H is hessian of f(x)\n",
    "    upper = np.column_stack((H, A.T)) # [Hessian, A^T]\n",
    "    lower = np.column_stack((A, np.zeros((row, row)))) # [A, 0]\n",
    "    KKT = np.row_stack((upper, lower)) # this the the matrix on the left\n",
    "    dfx = f_grad(x) # this is - nabla f(x)\n",
    "    RHS = np.append(dfx, np.zeros(row)) # right hand side\n",
    "    epsilon =  100 # get the Newton decrement\n",
    "    count = 0\n",
    "    # clear search history\n",
    "    x_hist.clear()\n",
    "    fx_hist.clear()  # objective function value\n",
    "    dfx_hist.clear()  # derivative of objective function / gradient vector at x\n",
    "    hfx_hist.clear()  # second derivative of objective function / hessian matrix at x\n",
    "    dx_hist.clear()  # Newton step / search direction\n",
    "    epsilon_hist.clear()\n",
    "    while epsilon > tol and count < 500:\n",
    "        \n",
    "        count = count + 1\n",
    "        \n",
    "        x_hist.append(x)\n",
    "        fx_hist.append(f(x))\n",
    "        dfx_hist.append(dfx)\n",
    "        hfx_hist.append(H)\n",
    "        \n",
    "        LHS = np.squeeze(np.array(inv(KKT).dot(RHS)))\n",
    "        dx = -np.array(LHS)[:col]; dx_hist.append(dx)\n",
    "        t = 1\n",
    "        # using backtracking line search\n",
    "        back_ct=0\n",
    "        fval = f(x)\n",
    "        while f(x + t * dx) >= fval - alpha * t * dfx.T.dot(dx):\n",
    "            t = t * beta\n",
    "            back_ct+=1\n",
    "            if back_ct>50:\n",
    "                break\n",
    "        # update the parameters\n",
    "        last_x=x\n",
    "        x = x + t * dx\n",
    "        H = f_hess(x)\n",
    "        upper = np.column_stack((H, A.T))\n",
    "        lower = np.column_stack((A, np.zeros((row, row))))\n",
    "        KKT = np.row_stack((upper, lower))\n",
    "        dfx = f_grad(x)\n",
    "        RHS = np.append(dfx, np.zeros(row))\n",
    "        epsilon =  2*np.sqrt(f(last_x) - f(x)); epsilon_hist.append(epsilon)\n",
    "        #print(dfx.T.dot(dx))\n",
    "    return x,epsilon,count"
   ]
  },
  {
   "cell_type": "code",
   "execution_count": 12,
   "metadata": {},
   "outputs": [],
   "source": [
    "alpha = 0.1\n",
    "beta = 0.5\n",
    "tol = 0.0001"
   ]
  },
  {
   "cell_type": "code",
   "execution_count": 13,
   "metadata": {},
   "outputs": [],
   "source": [
    "x0=np.array([0.1,0.4,0.3])\n",
    "A=np.array([[1,1,1]])"
   ]
  },
  {
   "cell_type": "code",
   "execution_count": 14,
   "metadata": {},
   "outputs": [
    {
     "name": "stdout",
     "output_type": "stream",
     "text": [
      "Wall time: 484 ms\n"
     ]
    },
    {
     "data": {
      "text/plain": [
       "(array([0.26666667, 0.26666667, 0.26666667]), 1.7320508075688772, 500)"
      ]
     },
     "execution_count": 14,
     "metadata": {},
     "output_type": "execute_result"
    }
   ],
   "source": [
    "%%time\n",
    "NewtonMethod_acp(A, x0, alpha, beta, tol)"
   ]
  },
  {
   "cell_type": "code",
   "execution_count": 15,
   "metadata": {},
   "outputs": [
    {
     "name": "stdout",
     "output_type": "stream",
     "text": [
      "Wall time: 0 ns\n"
     ]
    },
    {
     "data": {
      "text/plain": [
       "(array([0.26666667, 0.26666667, 0.26666667]), 0.0, 7)"
      ]
     },
     "execution_count": 15,
     "metadata": {},
     "output_type": "execute_result"
    }
   ],
   "source": [
    "%%time\n",
    "NewtonMethod_acp_new_decrement(A, x0, alpha, beta, 1e-12)"
   ]
  },
  {
   "cell_type": "code",
   "execution_count": 16,
   "metadata": {
    "scrolled": true
   },
   "outputs": [
    {
     "data": {
      "text/plain": [
       "array([0.01, 0.16, 0.09])"
      ]
     },
     "execution_count": 16,
     "metadata": {},
     "output_type": "execute_result"
    }
   ],
   "source": [
    "x0**2"
   ]
  },
  {
   "cell_type": "code",
   "execution_count": 17,
   "metadata": {},
   "outputs": [
    {
     "data": {
      "text/plain": [
       "[1.162474608037542,\n",
       " 0.6650906947616758,\n",
       " 0.1909997446386805,\n",
       " 0.012275423049964993,\n",
       " 4.398875281426429e-05,\n",
       " 4.2146848510894035e-08,\n",
       " 0.0]"
      ]
     },
     "execution_count": 17,
     "metadata": {},
     "output_type": "execute_result"
    }
   ],
   "source": [
    "epsilon_hist"
   ]
  },
  {
   "cell_type": "code",
   "execution_count": 18,
   "metadata": {},
   "outputs": [
    {
     "data": {
      "text/plain": [
       "0    1.162475e+00\n",
       "1    6.650907e-01\n",
       "2    1.909997e-01\n",
       "3    1.227542e-02\n",
       "4    4.398875e-05\n",
       "5    4.214685e-08\n",
       "6    0.000000e+00\n",
       "dtype: float64"
      ]
     },
     "execution_count": 18,
     "metadata": {},
     "output_type": "execute_result"
    },
    {
     "data": {
      "image/png": "[encoded data removed]",
      "text/plain": [
       "<Figure size 432x288 with 1 Axes>"
      ]
     },
     "metadata": {
      "needs_background": "light"
     },
     "output_type": "display_data"
    }
   ],
   "source": [
    "ts=pd.Series(epsilon_hist)\n",
    "ts.plot(logy=True)\n",
    "ts"
   ]
  },
  {
   "cell_type": "code",
   "execution_count": 19,
   "metadata": {},
   "outputs": [],
   "source": [
    "A1 = np.array([1 for i in range(500)])"
   ]
  },
  {
   "cell_type": "code",
   "execution_count": 20,
   "metadata": {},
   "outputs": [],
   "source": [
    "def cst(j,i):\n",
    "    if j==i-1 or j==i:\n",
    "        return 1\n",
    "    else:\n",
    "        return 0"
   ]
  },
  {
   "cell_type": "code",
   "execution_count": 21,
   "metadata": {},
   "outputs": [],
   "source": [
    "A2=np.array([[cst(j,i) for j in range(500)] for i in range(1,100)])"
   ]
  },
  {
   "cell_type": "code",
   "execution_count": 22,
   "metadata": {},
   "outputs": [],
   "source": [
    "A=np.row_stack((A1,A2))"
   ]
  },
  {
   "cell_type": "code",
   "execution_count": 23,
   "metadata": {},
   "outputs": [
    {
     "data": {
      "text/plain": [
       "array([[1, 1, 1, ..., 1, 1, 1],\n",
       "       [1, 1, 0, ..., 0, 0, 0],\n",
       "       [0, 1, 1, ..., 0, 0, 0],\n",
       "       ...,\n",
       "       [0, 0, 0, ..., 0, 0, 0],\n",
       "       [0, 0, 0, ..., 0, 0, 0],\n",
       "       [0, 0, 0, ..., 0, 0, 0]])"
      ]
     },
     "execution_count": 23,
     "metadata": {},
     "output_type": "execute_result"
    }
   ],
   "source": [
    "A"
   ]
  },
  {
   "cell_type": "code",
   "execution_count": 24,
   "metadata": {},
   "outputs": [],
   "source": [
    "x0 = np.array([0.5*i+1 for i in range(500)])"
   ]
  },
  {
   "cell_type": "code",
   "execution_count": 25,
   "metadata": {},
   "outputs": [
    {
     "data": {
      "text/plain": [
       "array([6.2875e+04, 2.5000e+00, 3.5000e+00, 4.5000e+00, 5.5000e+00,\n",
       "       6.5000e+00, 7.5000e+00, 8.5000e+00, 9.5000e+00, 1.0500e+01,\n",
       "       1.1500e+01, 1.2500e+01, 1.3500e+01, 1.4500e+01, 1.5500e+01,\n",
       "       1.6500e+01, 1.7500e+01, 1.8500e+01, 1.9500e+01, 2.0500e+01,\n",
       "       2.1500e+01, 2.2500e+01, 2.3500e+01, 2.4500e+01, 2.5500e+01,\n",
       "       2.6500e+01, 2.7500e+01, 2.8500e+01, 2.9500e+01, 3.0500e+01,\n",
       "       3.1500e+01, 3.2500e+01, 3.3500e+01, 3.4500e+01, 3.5500e+01,\n",
       "       3.6500e+01, 3.7500e+01, 3.8500e+01, 3.9500e+01, 4.0500e+01,\n",
       "       4.1500e+01, 4.2500e+01, 4.3500e+01, 4.4500e+01, 4.5500e+01,\n",
       "       4.6500e+01, 4.7500e+01, 4.8500e+01, 4.9500e+01, 5.0500e+01,\n",
       "       5.1500e+01, 5.2500e+01, 5.3500e+01, 5.4500e+01, 5.5500e+01,\n",
       "       5.6500e+01, 5.7500e+01, 5.8500e+01, 5.9500e+01, 6.0500e+01,\n",
       "       6.1500e+01, 6.2500e+01, 6.3500e+01, 6.4500e+01, 6.5500e+01,\n",
       "       6.6500e+01, 6.7500e+01, 6.8500e+01, 6.9500e+01, 7.0500e+01,\n",
       "       7.1500e+01, 7.2500e+01, 7.3500e+01, 7.4500e+01, 7.5500e+01,\n",
       "       7.6500e+01, 7.7500e+01, 7.8500e+01, 7.9500e+01, 8.0500e+01,\n",
       "       8.1500e+01, 8.2500e+01, 8.3500e+01, 8.4500e+01, 8.5500e+01,\n",
       "       8.6500e+01, 8.7500e+01, 8.8500e+01, 8.9500e+01, 9.0500e+01,\n",
       "       9.1500e+01, 9.2500e+01, 9.3500e+01, 9.4500e+01, 9.5500e+01,\n",
       "       9.6500e+01, 9.7500e+01, 9.8500e+01, 9.9500e+01, 1.0050e+02])"
      ]
     },
     "execution_count": 25,
     "metadata": {},
     "output_type": "execute_result"
    }
   ],
   "source": [
    "x0\n",
    "A @ x0"
   ]
  },
  {
   "cell_type": "code",
   "execution_count": 26,
   "metadata": {
    "scrolled": true
   },
   "outputs": [
    {
     "name": "stdout",
     "output_type": "stream",
     "text": [
      "Wall time: 234 ms\n"
     ]
    },
    {
     "data": {
      "text/plain": [
       "(array([  1.25,   1.25,   2.25,   2.25,   3.25,   3.25,   4.25,   4.25,\n",
       "          5.25,   5.25,   6.25,   6.25,   7.25,   7.25,   8.25,   8.25,\n",
       "          9.25,   9.25,  10.25,  10.25,  11.25,  11.25,  12.25,  12.25,\n",
       "         13.25,  13.25,  14.25,  14.25,  15.25,  15.25,  16.25,  16.25,\n",
       "         17.25,  17.25,  18.25,  18.25,  19.25,  19.25,  20.25,  20.25,\n",
       "         21.25,  21.25,  22.25,  22.25,  23.25,  23.25,  24.25,  24.25,\n",
       "         25.25,  25.25,  26.25,  26.25,  27.25,  27.25,  28.25,  28.25,\n",
       "         29.25,  29.25,  30.25,  30.25,  31.25,  31.25,  32.25,  32.25,\n",
       "         33.25,  33.25,  34.25,  34.25,  35.25,  35.25,  36.25,  36.25,\n",
       "         37.25,  37.25,  38.25,  38.25,  39.25,  39.25,  40.25,  40.25,\n",
       "         41.25,  41.25,  42.25,  42.25,  43.25,  43.25,  44.25,  44.25,\n",
       "         45.25,  45.25,  46.25,  46.25,  47.25,  47.25,  48.25,  48.25,\n",
       "         49.25,  49.25,  50.25,  50.25, 150.75, 150.75, 150.75, 150.75,\n",
       "        150.75, 150.75, 150.75, 150.75, 150.75, 150.75, 150.75, 150.75,\n",
       "        150.75, 150.75, 150.75, 150.75, 150.75, 150.75, 150.75, 150.75,\n",
       "        150.75, 150.75, 150.75, 150.75, 150.75, 150.75, 150.75, 150.75,\n",
       "        150.75, 150.75, 150.75, 150.75, 150.75, 150.75, 150.75, 150.75,\n",
       "        150.75, 150.75, 150.75, 150.75, 150.75, 150.75, 150.75, 150.75,\n",
       "        150.75, 150.75, 150.75, 150.75, 150.75, 150.75, 150.75, 150.75,\n",
       "        150.75, 150.75, 150.75, 150.75, 150.75, 150.75, 150.75, 150.75,\n",
       "        150.75, 150.75, 150.75, 150.75, 150.75, 150.75, 150.75, 150.75,\n",
       "        150.75, 150.75, 150.75, 150.75, 150.75, 150.75, 150.75, 150.75,\n",
       "        150.75, 150.75, 150.75, 150.75, 150.75, 150.75, 150.75, 150.75,\n",
       "        150.75, 150.75, 150.75, 150.75, 150.75, 150.75, 150.75, 150.75,\n",
       "        150.75, 150.75, 150.75, 150.75, 150.75, 150.75, 150.75, 150.75,\n",
       "        150.75, 150.75, 150.75, 150.75, 150.75, 150.75, 150.75, 150.75,\n",
       "        150.75, 150.75, 150.75, 150.75, 150.75, 150.75, 150.75, 150.75,\n",
       "        150.75, 150.75, 150.75, 150.75, 150.75, 150.75, 150.75, 150.75,\n",
       "        150.75, 150.75, 150.75, 150.75, 150.75, 150.75, 150.75, 150.75,\n",
       "        150.75, 150.75, 150.75, 150.75, 150.75, 150.75, 150.75, 150.75,\n",
       "        150.75, 150.75, 150.75, 150.75, 150.75, 150.75, 150.75, 150.75,\n",
       "        150.75, 150.75, 150.75, 150.75, 150.75, 150.75, 150.75, 150.75,\n",
       "        150.75, 150.75, 150.75, 150.75, 150.75, 150.75, 150.75, 150.75,\n",
       "        150.75, 150.75, 150.75, 150.75, 150.75, 150.75, 150.75, 150.75,\n",
       "        150.75, 150.75, 150.75, 150.75, 150.75, 150.75, 150.75, 150.75,\n",
       "        150.75, 150.75, 150.75, 150.75, 150.75, 150.75, 150.75, 150.75,\n",
       "        150.75, 150.75, 150.75, 150.75, 150.75, 150.75, 150.75, 150.75,\n",
       "        150.75, 150.75, 150.75, 150.75, 150.75, 150.75, 150.75, 150.75,\n",
       "        150.75, 150.75, 150.75, 150.75, 150.75, 150.75, 150.75, 150.75,\n",
       "        150.75, 150.75, 150.75, 150.75, 150.75, 150.75, 150.75, 150.75,\n",
       "        150.75, 150.75, 150.75, 150.75, 150.75, 150.75, 150.75, 150.75,\n",
       "        150.75, 150.75, 150.75, 150.75, 150.75, 150.75, 150.75, 150.75,\n",
       "        150.75, 150.75, 150.75, 150.75, 150.75, 150.75, 150.75, 150.75,\n",
       "        150.75, 150.75, 150.75, 150.75, 150.75, 150.75, 150.75, 150.75,\n",
       "        150.75, 150.75, 150.75, 150.75, 150.75, 150.75, 150.75, 150.75,\n",
       "        150.75, 150.75, 150.75, 150.75, 150.75, 150.75, 150.75, 150.75,\n",
       "        150.75, 150.75, 150.75, 150.75, 150.75, 150.75, 150.75, 150.75,\n",
       "        150.75, 150.75, 150.75, 150.75, 150.75, 150.75, 150.75, 150.75,\n",
       "        150.75, 150.75, 150.75, 150.75, 150.75, 150.75, 150.75, 150.75,\n",
       "        150.75, 150.75, 150.75, 150.75, 150.75, 150.75, 150.75, 150.75,\n",
       "        150.75, 150.75, 150.75, 150.75, 150.75, 150.75, 150.75, 150.75,\n",
       "        150.75, 150.75, 150.75, 150.75, 150.75, 150.75, 150.75, 150.75,\n",
       "        150.75, 150.75, 150.75, 150.75, 150.75, 150.75, 150.75, 150.75,\n",
       "        150.75, 150.75, 150.75, 150.75, 150.75, 150.75, 150.75, 150.75,\n",
       "        150.75, 150.75, 150.75, 150.75, 150.75, 150.75, 150.75, 150.75,\n",
       "        150.75, 150.75, 150.75, 150.75, 150.75, 150.75, 150.75, 150.75,\n",
       "        150.75, 150.75, 150.75, 150.75, 150.75, 150.75, 150.75, 150.75,\n",
       "        150.75, 150.75, 150.75, 150.75, 150.75, 150.75, 150.75, 150.75,\n",
       "        150.75, 150.75, 150.75, 150.75, 150.75, 150.75, 150.75, 150.75,\n",
       "        150.75, 150.75, 150.75, 150.75, 150.75, 150.75, 150.75, 150.75,\n",
       "        150.75, 150.75, 150.75, 150.75, 150.75, 150.75, 150.75, 150.75,\n",
       "        150.75, 150.75, 150.75, 150.75, 150.75, 150.75, 150.75, 150.75,\n",
       "        150.75, 150.75, 150.75, 150.75]), 1.3486991523486091e-06, 6)"
      ]
     },
     "execution_count": 26,
     "metadata": {},
     "output_type": "execute_result"
    }
   ],
   "source": [
    "%%time\n",
    "#res=NewtonMethod_acp(A, x0, a, b, tol)\n",
    "NewtonMethod_acp_new_decrement(A, x0, alpha, beta, tol)"
   ]
  },
  {
   "cell_type": "code",
   "execution_count": 27,
   "metadata": {},
   "outputs": [
    {
     "data": {
      "text/plain": [
       "0    10.788130\n",
       "1     4.455887\n",
       "2     1.142177\n",
       "3     0.128901\n",
       "4     0.002564\n",
       "5     0.000001\n",
       "dtype: float64"
      ]
     },
     "execution_count": 27,
     "metadata": {},
     "output_type": "execute_result"
    },
    {
     "data": {
      "image/png": "[encoded data removed]",
      "text/plain": [
       "<Figure size 432x288 with 1 Axes>"
      ]
     },
     "metadata": {
      "needs_background": "light"
     },
     "output_type": "display_data"
    }
   ],
   "source": [
    "ts=pd.Series(epsilon_hist)\n",
    "ts.plot(logy=True)\n",
    "ts"
   ]
  },
  {
   "cell_type": "code",
   "execution_count": 28,
   "metadata": {},
   "outputs": [
    {
     "data": {
      "text/plain": [
       "2.701350254596946e-11"
      ]
     },
     "execution_count": 28,
     "metadata": {},
     "output_type": "execute_result"
    }
   ],
   "source": [
    "sum((A @ x_hist[0]) - (A @ x_hist[5]))"
   ]
  },
  {
   "cell_type": "markdown",
   "metadata": {},
   "source": [
    "# Question.2"
   ]
  },
  {
   "cell_type": "markdown",
   "metadata": {},
   "source": [
    "## (a)\n",
    "\n",
    "First, show the equivelent between these 4 conditions.\n",
    "___\n",
    "* Condition 1 is equivalent to Condition 2\n",
    "\n",
    "Condition 1 $\\rightarrow$ Condition 2\n",
    "\n",
    "Suppose $x \\in \\mathcal N(A) \\cap \\mathcal N(H)$ and $x \\neq 0$. In condition 2, we have  $Ax = 0\\, x \\neq 0$. Since $x \\in \\mathcal N(A) \\cap \\mathcal N(H)$, we have $x^THx = 0$, this contradict to to second statement.\n",
    "\n",
    "Condition 2 $\\rightarrow$ Condition 1\n",
    "\n",
    "If there is an $x$ s.t. $Ax = 0\\, x \\neq 0, x^THX = 0$. Because $H$ is semipositive definate, we must have $Hx = 0$, i.e.   $x \\in \\mathcal N(A) \\cap \\mathcal N(H)$\n",
    "___\n",
    "* Condition 2 is equivalent to Condition 3\n",
    "\n",
    "If $Ax = 0, x \\neq 0$, then because $\\mathcal R(F) = \\mathcal N (A)$, we have $x = Fz$ and $z \\neq 0$. Then because of 2 we have $x^T Hx = z^TF^THFZ > 0$\n",
    "\n",
    "___\n",
    "* Condition 2 is equivalent to Condition 4\n",
    "If we have the condition 2. then \n",
    "\n",
    "$$\n",
    "x^T(H + A^TA) = x^THx + \\vert\\vert A^Tx\\vert\\vert^2_2 > 0\n",
    "$$\n",
    "for all nonzero x, sot the condition 4 holds for $Q = I$.\n",
    "If the fourth condition hols with general semipositive definate form of $Q$.\n",
    "$$\n",
    "x^T(H + A^TQA) = x^THx + x^TA^TQAx > 0\n",
    "$$\n",
    "for all nonzero $x$, Therefore if $Ax = 0\\, x \\neq 0$, we must have $x\\neq 0$\n",
    "___\n",
    "Second show these four conditions are equivalent to nonsigularity of KKT matrix.\n",
    "\n",
    "Suppose $x\\neq 0$, s.t.$Ax = 0, Hx = 0$\n",
    "$$\n",
    "\\begin{bmatrix}\n",
    "H & A^T\\\\\n",
    "A & 0\n",
    "\\end{bmatrix}\n",
    "\\begin{bmatrix}\n",
    "x\\\\\n",
    "0\n",
    "\\end{bmatrix} = 0$$\n",
    "\n",
    "If the KKT matrix is singular, $x,z$ are not both zero, and we have\n",
    "$$\n",
    "\\begin{bmatrix}\n",
    "H & A^T\\\\\n",
    "A & 0\n",
    "\\end{bmatrix}\n",
    "\\begin{bmatrix}\n",
    "x\\\\\n",
    "z\n",
    "\\end{bmatrix} = 0$$\n",
    "\n",
    "This leads to $Hx + A^Tz = 0$, and $Ax = 0$. \n",
    "from the first equation, we have \n",
    "$$\n",
    "x^THx + x^TA^Tz = 0.\n",
    "$$\n",
    "plug in the second equation.\n",
    "we have $x^THx = 0$, this contradicts second condition unless $x= 0$.\n",
    "\n",
    "## (b)\n",
    "From previous question, we have $H + A^TA$ is positive definate matrix. Then we must hvae $R \\in \\mathbb R^{n\\times n}$, s.t.\n",
    "$$\n",
    "R^T(H + A^TA)R = I\n",
    "$$\n",
    "Apply SVD to $AR$, $AR = U\\Sigma V_1^T$, where $\\Sigma = diag(\\sigma_1,\\cdots, \\sigma_p)$. Denote $V_2 \\in \\mathbb R^{n\\times(n-p)}$, s.t.\n",
    "$$\n",
    "V = \\left[V_1\\quad V_2\\right]\n",
    "$$\n",
    "$V_2$ is orthogonal, and let \n",
    "$$\n",
    "S = \\left[\\Sigma\\quad 0\\right] \\in \\mathbb R^{p\\times n}\n",
    "$$\n",
    "We have $AR = USV^T$, then \n",
    "$$\n",
    "V^TR^T(H + A^TA)RV = V^TR^THRV + S^TS = I\n",
    "$$\n",
    "Becasue $V^TR^THRV = I - S^TS$ is diagonal matrix, then denote it as $D$\n",
    "$$\n",
    "D = V^TR^THRV = diag(1-\\sigma_1^2, \\cdots, 1-\\sigma_p^2, 1, \\cdots, 1)\n",
    "$$\n",
    "Apply the transform to KKT matrix, we have\n",
    "\n",
    "$$\n",
    "\\begin{bmatrix}\n",
    "V^TR^T & 0\\\\\n",
    "0 & U\n",
    "\\end{bmatrix}\n",
    "\\begin{bmatrix}\n",
    "H & A^T\\\\\n",
    "A & 0\n",
    "\\end{bmatrix}\n",
    "\\begin{bmatrix}\n",
    "RV & 0\\\\\n",
    "0 & U\n",
    "\\end{bmatrix}\n",
    "=\n",
    "\\begin{bmatrix}\n",
    "D & S^T\\\\\n",
    "S & 0\n",
    "\\end{bmatrix}\n",
    "$$\n",
    "Apply the permutation to hte matrix on the right gives a block diaonal matrix with n diagonal blocks.\n",
    "$$\n",
    "\\begin{bmatrix}\n",
    "\\lambda_i & \\sigma_i\\\\\n",
    "\\sigma_i & 0\n",
    "\\end{bmatrix}\n",
    "$$\n",
    "where $i = 1,2,\\cdots, p$, \n",
    "\n",
    "and $\\lambda_i = 1$ for $i = p +1, \\cdots, n$\n",
    "\n",
    "This matrix have eiggenvalues of $\\frac{\\lambda_i \\pm \\sqrt{\\lambda_i^2 + 4\\sigma_i^2}}{2}$, i.e. one eigen value is positive, another is negative. \n",
    "\n",
    "In total, there are n positive evalues and p negative evalues."
   ]
  }
 ],
 "metadata": {
  "kernelspec": {
   "display_name": "Python 3",
   "language": "python",
   "name": "python3"
  },
  "language_info": {
   "codemirror_mode": {
    "name": "ipython",
    "version": 3
   },
   "file_extension": ".py",
   "mimetype": "text/x-python",
   "name": "python",
   "nbconvert_exporter": "python",
   "pygments_lexer": "ipython3",
   "version": "3.7.0"
  }
 },
 "nbformat": 4,
 "nbformat_minor": 2
}
